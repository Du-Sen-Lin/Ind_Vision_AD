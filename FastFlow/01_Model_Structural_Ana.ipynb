{
 "cells": [
  {
   "cell_type": "markdown",
   "id": "9bcf1fb1",
   "metadata": {},
   "source": [
    "# Model Struct"
   ]
  },
  {
   "cell_type": "code",
   "execution_count": 1,
   "id": "79c3d064",
   "metadata": {
    "ExecuteTime": {
     "end_time": "2022-10-19T10:27:18.050915Z",
     "start_time": "2022-10-19T10:27:15.126820Z"
    }
   },
   "outputs": [
    {
     "name": "stdout",
     "output_type": "stream",
     "text": [
      "Using cuda:2 device\n"
     ]
    }
   ],
   "source": [
    "import fastflow\n",
    "import torch\n",
    "device = \"cuda:2\" if torch.cuda.is_available() else \"cpu\"\n",
    "print(\"Using {} device\".format(device))\n"
   ]
  },
  {
   "cell_type": "code",
   "execution_count": 2,
   "id": "51079a46",
   "metadata": {
    "ExecuteTime": {
     "end_time": "2022-10-19T10:28:01.466060Z",
     "start_time": "2022-10-19T10:28:01.451372Z"
    }
   },
   "outputs": [
    {
     "data": {
      "text/plain": [
       "<module 'fastflow' from '/root/project/wood/ort/trt/research/wdcv/demo/anomaly_detection/FastFlow/fastflow.py'>"
      ]
     },
     "execution_count": 2,
     "metadata": {},
     "output_type": "execute_result"
    }
   ],
   "source": [
    "fastflow"
   ]
  },
  {
   "cell_type": "code",
   "execution_count": 3,
   "id": "2a7cc52a",
   "metadata": {
    "ExecuteTime": {
     "end_time": "2022-10-19T10:28:04.855175Z",
     "start_time": "2022-10-19T10:28:04.229029Z"
    }
   },
   "outputs": [],
   "source": [
    "model = fastflow.FastFlow(\n",
    "    backbone_name=\"resnet18\",\n",
    "    flow_steps=8,\n",
    "    input_size=256,\n",
    "    conv3x3_only=True,\n",
    "    hidden_ratio=1.0,\n",
    ")"
   ]
  },
  {
   "cell_type": "code",
   "execution_count": 4,
   "id": "7cf40dbe",
   "metadata": {
    "ExecuteTime": {
     "end_time": "2022-10-19T10:28:12.033871Z",
     "start_time": "2022-10-19T10:28:04.938378Z"
    }
   },
   "outputs": [
    {
     "data": {
      "text/plain": [
       "FastFlow(\n",
       "  (feature_extractor): FeatureListNet(\n",
       "    (conv1): Conv2d(3, 64, kernel_size=(7, 7), stride=(2, 2), padding=(3, 3), bias=False)\n",
       "    (bn1): BatchNorm2d(64, eps=1e-05, momentum=0.1, affine=True, track_running_stats=True)\n",
       "    (act1): ReLU(inplace=True)\n",
       "    (maxpool): MaxPool2d(kernel_size=3, stride=2, padding=1, dilation=1, ceil_mode=False)\n",
       "    (layer1): Sequential(\n",
       "      (0): BasicBlock(\n",
       "        (conv1): Conv2d(64, 64, kernel_size=(3, 3), stride=(1, 1), padding=(1, 1), bias=False)\n",
       "        (bn1): BatchNorm2d(64, eps=1e-05, momentum=0.1, affine=True, track_running_stats=True)\n",
       "        (act1): ReLU(inplace=True)\n",
       "        (conv2): Conv2d(64, 64, kernel_size=(3, 3), stride=(1, 1), padding=(1, 1), bias=False)\n",
       "        (bn2): BatchNorm2d(64, eps=1e-05, momentum=0.1, affine=True, track_running_stats=True)\n",
       "        (act2): ReLU(inplace=True)\n",
       "      )\n",
       "      (1): BasicBlock(\n",
       "        (conv1): Conv2d(64, 64, kernel_size=(3, 3), stride=(1, 1), padding=(1, 1), bias=False)\n",
       "        (bn1): BatchNorm2d(64, eps=1e-05, momentum=0.1, affine=True, track_running_stats=True)\n",
       "        (act1): ReLU(inplace=True)\n",
       "        (conv2): Conv2d(64, 64, kernel_size=(3, 3), stride=(1, 1), padding=(1, 1), bias=False)\n",
       "        (bn2): BatchNorm2d(64, eps=1e-05, momentum=0.1, affine=True, track_running_stats=True)\n",
       "        (act2): ReLU(inplace=True)\n",
       "      )\n",
       "    )\n",
       "    (layer2): Sequential(\n",
       "      (0): BasicBlock(\n",
       "        (conv1): Conv2d(64, 128, kernel_size=(3, 3), stride=(2, 2), padding=(1, 1), bias=False)\n",
       "        (bn1): BatchNorm2d(128, eps=1e-05, momentum=0.1, affine=True, track_running_stats=True)\n",
       "        (act1): ReLU(inplace=True)\n",
       "        (conv2): Conv2d(128, 128, kernel_size=(3, 3), stride=(1, 1), padding=(1, 1), bias=False)\n",
       "        (bn2): BatchNorm2d(128, eps=1e-05, momentum=0.1, affine=True, track_running_stats=True)\n",
       "        (act2): ReLU(inplace=True)\n",
       "        (downsample): Sequential(\n",
       "          (0): Conv2d(64, 128, kernel_size=(1, 1), stride=(2, 2), bias=False)\n",
       "          (1): BatchNorm2d(128, eps=1e-05, momentum=0.1, affine=True, track_running_stats=True)\n",
       "        )\n",
       "      )\n",
       "      (1): BasicBlock(\n",
       "        (conv1): Conv2d(128, 128, kernel_size=(3, 3), stride=(1, 1), padding=(1, 1), bias=False)\n",
       "        (bn1): BatchNorm2d(128, eps=1e-05, momentum=0.1, affine=True, track_running_stats=True)\n",
       "        (act1): ReLU(inplace=True)\n",
       "        (conv2): Conv2d(128, 128, kernel_size=(3, 3), stride=(1, 1), padding=(1, 1), bias=False)\n",
       "        (bn2): BatchNorm2d(128, eps=1e-05, momentum=0.1, affine=True, track_running_stats=True)\n",
       "        (act2): ReLU(inplace=True)\n",
       "      )\n",
       "    )\n",
       "    (layer3): Sequential(\n",
       "      (0): BasicBlock(\n",
       "        (conv1): Conv2d(128, 256, kernel_size=(3, 3), stride=(2, 2), padding=(1, 1), bias=False)\n",
       "        (bn1): BatchNorm2d(256, eps=1e-05, momentum=0.1, affine=True, track_running_stats=True)\n",
       "        (act1): ReLU(inplace=True)\n",
       "        (conv2): Conv2d(256, 256, kernel_size=(3, 3), stride=(1, 1), padding=(1, 1), bias=False)\n",
       "        (bn2): BatchNorm2d(256, eps=1e-05, momentum=0.1, affine=True, track_running_stats=True)\n",
       "        (act2): ReLU(inplace=True)\n",
       "        (downsample): Sequential(\n",
       "          (0): Conv2d(128, 256, kernel_size=(1, 1), stride=(2, 2), bias=False)\n",
       "          (1): BatchNorm2d(256, eps=1e-05, momentum=0.1, affine=True, track_running_stats=True)\n",
       "        )\n",
       "      )\n",
       "      (1): BasicBlock(\n",
       "        (conv1): Conv2d(256, 256, kernel_size=(3, 3), stride=(1, 1), padding=(1, 1), bias=False)\n",
       "        (bn1): BatchNorm2d(256, eps=1e-05, momentum=0.1, affine=True, track_running_stats=True)\n",
       "        (act1): ReLU(inplace=True)\n",
       "        (conv2): Conv2d(256, 256, kernel_size=(3, 3), stride=(1, 1), padding=(1, 1), bias=False)\n",
       "        (bn2): BatchNorm2d(256, eps=1e-05, momentum=0.1, affine=True, track_running_stats=True)\n",
       "        (act2): ReLU(inplace=True)\n",
       "      )\n",
       "    )\n",
       "  )\n",
       "  (norms): ModuleList(\n",
       "    (0): LayerNorm((64, 64, 64), eps=1e-05, elementwise_affine=True)\n",
       "    (1): LayerNorm((128, 32, 32), eps=1e-05, elementwise_affine=True)\n",
       "    (2): LayerNorm((256, 16, 16), eps=1e-05, elementwise_affine=True)\n",
       "  )\n",
       "  (nf_flows): ModuleList(\n",
       "    (0): SequenceINN(\n",
       "      (module_list): ModuleList(\n",
       "        (0): AllInOneBlock(\n",
       "          (softplus): Softplus(beta=0.5, threshold=20)\n",
       "          (subnet): Sequential(\n",
       "            (0): Conv2d(32, 32, kernel_size=(3, 3), stride=(1, 1), padding=same)\n",
       "            (1): ReLU()\n",
       "            (2): Conv2d(32, 64, kernel_size=(3, 3), stride=(1, 1), padding=same)\n",
       "          )\n",
       "        )\n",
       "        (1): AllInOneBlock(\n",
       "          (softplus): Softplus(beta=0.5, threshold=20)\n",
       "          (subnet): Sequential(\n",
       "            (0): Conv2d(32, 32, kernel_size=(3, 3), stride=(1, 1), padding=same)\n",
       "            (1): ReLU()\n",
       "            (2): Conv2d(32, 64, kernel_size=(3, 3), stride=(1, 1), padding=same)\n",
       "          )\n",
       "        )\n",
       "        (2): AllInOneBlock(\n",
       "          (softplus): Softplus(beta=0.5, threshold=20)\n",
       "          (subnet): Sequential(\n",
       "            (0): Conv2d(32, 32, kernel_size=(3, 3), stride=(1, 1), padding=same)\n",
       "            (1): ReLU()\n",
       "            (2): Conv2d(32, 64, kernel_size=(3, 3), stride=(1, 1), padding=same)\n",
       "          )\n",
       "        )\n",
       "        (3): AllInOneBlock(\n",
       "          (softplus): Softplus(beta=0.5, threshold=20)\n",
       "          (subnet): Sequential(\n",
       "            (0): Conv2d(32, 32, kernel_size=(3, 3), stride=(1, 1), padding=same)\n",
       "            (1): ReLU()\n",
       "            (2): Conv2d(32, 64, kernel_size=(3, 3), stride=(1, 1), padding=same)\n",
       "          )\n",
       "        )\n",
       "        (4): AllInOneBlock(\n",
       "          (softplus): Softplus(beta=0.5, threshold=20)\n",
       "          (subnet): Sequential(\n",
       "            (0): Conv2d(32, 32, kernel_size=(3, 3), stride=(1, 1), padding=same)\n",
       "            (1): ReLU()\n",
       "            (2): Conv2d(32, 64, kernel_size=(3, 3), stride=(1, 1), padding=same)\n",
       "          )\n",
       "        )\n",
       "        (5): AllInOneBlock(\n",
       "          (softplus): Softplus(beta=0.5, threshold=20)\n",
       "          (subnet): Sequential(\n",
       "            (0): Conv2d(32, 32, kernel_size=(3, 3), stride=(1, 1), padding=same)\n",
       "            (1): ReLU()\n",
       "            (2): Conv2d(32, 64, kernel_size=(3, 3), stride=(1, 1), padding=same)\n",
       "          )\n",
       "        )\n",
       "        (6): AllInOneBlock(\n",
       "          (softplus): Softplus(beta=0.5, threshold=20)\n",
       "          (subnet): Sequential(\n",
       "            (0): Conv2d(32, 32, kernel_size=(3, 3), stride=(1, 1), padding=same)\n",
       "            (1): ReLU()\n",
       "            (2): Conv2d(32, 64, kernel_size=(3, 3), stride=(1, 1), padding=same)\n",
       "          )\n",
       "        )\n",
       "        (7): AllInOneBlock(\n",
       "          (softplus): Softplus(beta=0.5, threshold=20)\n",
       "          (subnet): Sequential(\n",
       "            (0): Conv2d(32, 32, kernel_size=(3, 3), stride=(1, 1), padding=same)\n",
       "            (1): ReLU()\n",
       "            (2): Conv2d(32, 64, kernel_size=(3, 3), stride=(1, 1), padding=same)\n",
       "          )\n",
       "        )\n",
       "      )\n",
       "    )\n",
       "    (1): SequenceINN(\n",
       "      (module_list): ModuleList(\n",
       "        (0): AllInOneBlock(\n",
       "          (softplus): Softplus(beta=0.5, threshold=20)\n",
       "          (subnet): Sequential(\n",
       "            (0): Conv2d(64, 64, kernel_size=(3, 3), stride=(1, 1), padding=same)\n",
       "            (1): ReLU()\n",
       "            (2): Conv2d(64, 128, kernel_size=(3, 3), stride=(1, 1), padding=same)\n",
       "          )\n",
       "        )\n",
       "        (1): AllInOneBlock(\n",
       "          (softplus): Softplus(beta=0.5, threshold=20)\n",
       "          (subnet): Sequential(\n",
       "            (0): Conv2d(64, 64, kernel_size=(3, 3), stride=(1, 1), padding=same)\n",
       "            (1): ReLU()\n",
       "            (2): Conv2d(64, 128, kernel_size=(3, 3), stride=(1, 1), padding=same)\n",
       "          )\n",
       "        )\n",
       "        (2): AllInOneBlock(\n",
       "          (softplus): Softplus(beta=0.5, threshold=20)\n",
       "          (subnet): Sequential(\n",
       "            (0): Conv2d(64, 64, kernel_size=(3, 3), stride=(1, 1), padding=same)\n",
       "            (1): ReLU()\n",
       "            (2): Conv2d(64, 128, kernel_size=(3, 3), stride=(1, 1), padding=same)\n",
       "          )\n",
       "        )\n",
       "        (3): AllInOneBlock(\n",
       "          (softplus): Softplus(beta=0.5, threshold=20)\n",
       "          (subnet): Sequential(\n",
       "            (0): Conv2d(64, 64, kernel_size=(3, 3), stride=(1, 1), padding=same)\n",
       "            (1): ReLU()\n",
       "            (2): Conv2d(64, 128, kernel_size=(3, 3), stride=(1, 1), padding=same)\n",
       "          )\n",
       "        )\n",
       "        (4): AllInOneBlock(\n",
       "          (softplus): Softplus(beta=0.5, threshold=20)\n",
       "          (subnet): Sequential(\n",
       "            (0): Conv2d(64, 64, kernel_size=(3, 3), stride=(1, 1), padding=same)\n",
       "            (1): ReLU()\n",
       "            (2): Conv2d(64, 128, kernel_size=(3, 3), stride=(1, 1), padding=same)\n",
       "          )\n",
       "        )\n",
       "        (5): AllInOneBlock(\n",
       "          (softplus): Softplus(beta=0.5, threshold=20)\n",
       "          (subnet): Sequential(\n",
       "            (0): Conv2d(64, 64, kernel_size=(3, 3), stride=(1, 1), padding=same)\n",
       "            (1): ReLU()\n",
       "            (2): Conv2d(64, 128, kernel_size=(3, 3), stride=(1, 1), padding=same)\n",
       "          )\n",
       "        )\n",
       "        (6): AllInOneBlock(\n",
       "          (softplus): Softplus(beta=0.5, threshold=20)\n",
       "          (subnet): Sequential(\n",
       "            (0): Conv2d(64, 64, kernel_size=(3, 3), stride=(1, 1), padding=same)\n",
       "            (1): ReLU()\n",
       "            (2): Conv2d(64, 128, kernel_size=(3, 3), stride=(1, 1), padding=same)\n",
       "          )\n",
       "        )\n",
       "        (7): AllInOneBlock(\n",
       "          (softplus): Softplus(beta=0.5, threshold=20)\n",
       "          (subnet): Sequential(\n",
       "            (0): Conv2d(64, 64, kernel_size=(3, 3), stride=(1, 1), padding=same)\n",
       "            (1): ReLU()\n",
       "            (2): Conv2d(64, 128, kernel_size=(3, 3), stride=(1, 1), padding=same)\n",
       "          )\n",
       "        )\n",
       "      )\n",
       "    )\n",
       "    (2): SequenceINN(\n",
       "      (module_list): ModuleList(\n",
       "        (0): AllInOneBlock(\n",
       "          (softplus): Softplus(beta=0.5, threshold=20)\n",
       "          (subnet): Sequential(\n",
       "            (0): Conv2d(128, 128, kernel_size=(3, 3), stride=(1, 1), padding=same)\n",
       "            (1): ReLU()\n",
       "            (2): Conv2d(128, 256, kernel_size=(3, 3), stride=(1, 1), padding=same)\n",
       "          )\n",
       "        )\n",
       "        (1): AllInOneBlock(\n",
       "          (softplus): Softplus(beta=0.5, threshold=20)\n",
       "          (subnet): Sequential(\n",
       "            (0): Conv2d(128, 128, kernel_size=(3, 3), stride=(1, 1), padding=same)\n",
       "            (1): ReLU()\n",
       "            (2): Conv2d(128, 256, kernel_size=(3, 3), stride=(1, 1), padding=same)\n",
       "          )\n",
       "        )\n",
       "        (2): AllInOneBlock(\n",
       "          (softplus): Softplus(beta=0.5, threshold=20)\n",
       "          (subnet): Sequential(\n",
       "            (0): Conv2d(128, 128, kernel_size=(3, 3), stride=(1, 1), padding=same)\n",
       "            (1): ReLU()\n",
       "            (2): Conv2d(128, 256, kernel_size=(3, 3), stride=(1, 1), padding=same)\n",
       "          )\n",
       "        )\n",
       "        (3): AllInOneBlock(\n",
       "          (softplus): Softplus(beta=0.5, threshold=20)\n",
       "          (subnet): Sequential(\n",
       "            (0): Conv2d(128, 128, kernel_size=(3, 3), stride=(1, 1), padding=same)\n",
       "            (1): ReLU()\n",
       "            (2): Conv2d(128, 256, kernel_size=(3, 3), stride=(1, 1), padding=same)\n",
       "          )\n",
       "        )\n",
       "        (4): AllInOneBlock(\n",
       "          (softplus): Softplus(beta=0.5, threshold=20)\n",
       "          (subnet): Sequential(\n",
       "            (0): Conv2d(128, 128, kernel_size=(3, 3), stride=(1, 1), padding=same)\n",
       "            (1): ReLU()\n",
       "            (2): Conv2d(128, 256, kernel_size=(3, 3), stride=(1, 1), padding=same)\n",
       "          )\n",
       "        )\n",
       "        (5): AllInOneBlock(\n",
       "          (softplus): Softplus(beta=0.5, threshold=20)\n",
       "          (subnet): Sequential(\n",
       "            (0): Conv2d(128, 128, kernel_size=(3, 3), stride=(1, 1), padding=same)\n",
       "            (1): ReLU()\n",
       "            (2): Conv2d(128, 256, kernel_size=(3, 3), stride=(1, 1), padding=same)\n",
       "          )\n",
       "        )\n",
       "        (6): AllInOneBlock(\n",
       "          (softplus): Softplus(beta=0.5, threshold=20)\n",
       "          (subnet): Sequential(\n",
       "            (0): Conv2d(128, 128, kernel_size=(3, 3), stride=(1, 1), padding=same)\n",
       "            (1): ReLU()\n",
       "            (2): Conv2d(128, 256, kernel_size=(3, 3), stride=(1, 1), padding=same)\n",
       "          )\n",
       "        )\n",
       "        (7): AllInOneBlock(\n",
       "          (softplus): Softplus(beta=0.5, threshold=20)\n",
       "          (subnet): Sequential(\n",
       "            (0): Conv2d(128, 128, kernel_size=(3, 3), stride=(1, 1), padding=same)\n",
       "            (1): ReLU()\n",
       "            (2): Conv2d(128, 256, kernel_size=(3, 3), stride=(1, 1), padding=same)\n",
       "          )\n",
       "        )\n",
       "      )\n",
       "    )\n",
       "  )\n",
       ")"
      ]
     },
     "execution_count": 4,
     "metadata": {},
     "output_type": "execute_result"
    }
   ],
   "source": [
    "model.to(device)"
   ]
  },
  {
   "cell_type": "markdown",
   "id": "f119bbfe",
   "metadata": {},
   "source": [
    "## backbone：特征提取\n",
    "\n",
    "backbone 充当特征提取器，不需要训练，不需要更新参数 requires_grad==false"
   ]
  },
  {
   "cell_type": "code",
   "execution_count": 5,
   "id": "1f9aae09",
   "metadata": {
    "ExecuteTime": {
     "end_time": "2022-10-19T10:28:12.158992Z",
     "start_time": "2022-10-19T10:28:12.037003Z"
    }
   },
   "outputs": [
    {
     "name": "stdout",
     "output_type": "stream",
     "text": [
      "@@ name: conv1, X: torch.Size([32, 3, 256, 256])\n",
      "Conv2d output shape: \t torch.Size([32, 64, 128, 128])\n",
      "@@ name: bn1, X: torch.Size([32, 64, 128, 128])\n",
      "BatchNorm2d output shape: \t torch.Size([32, 64, 128, 128])\n",
      "@@ name: act1, X: torch.Size([32, 64, 128, 128])\n",
      "ReLU output shape: \t torch.Size([32, 64, 128, 128])\n",
      "@@ name: maxpool, X: torch.Size([32, 64, 128, 128])\n",
      "MaxPool2d output shape: \t torch.Size([32, 64, 64, 64])\n",
      "@@ name: layer1, X: torch.Size([32, 64, 64, 64])\n",
      "Sequential output shape: \t torch.Size([32, 64, 64, 64])\n",
      "@@ name: layer2, X: torch.Size([32, 64, 64, 64])\n",
      "Sequential output shape: \t torch.Size([32, 128, 32, 32])\n",
      "@@ name: layer3, X: torch.Size([32, 128, 32, 32])\n",
      "Sequential output shape: \t torch.Size([32, 256, 16, 16])\n"
     ]
    }
   ],
   "source": [
    "X = torch.rand(size = (32, 3, 256, 256), dtype=torch.float32).to(device)\n",
    "\n",
    "for name, layer in model.feature_extractor._modules.items():\n",
    "    # print(f\"@@ name: {name}, layer: {layer}, X: {X.shape}\")\n",
    "    print(f\"@@ name: {name}, X: {X.shape}\")\n",
    "    X = layer(X)\n",
    "    print(layer.__class__.__name__, 'output shape: \\t', X.shape)"
   ]
  },
  {
   "cell_type": "code",
   "execution_count": 6,
   "id": "520a8ab4",
   "metadata": {
    "ExecuteTime": {
     "end_time": "2022-10-19T10:28:28.849981Z",
     "start_time": "2022-10-19T10:28:28.364540Z"
    }
   },
   "outputs": [],
   "source": [
    "import timm\n",
    "feature_extractor = timm.create_model(\n",
    "                \"resnet18\",\n",
    "                pretrained=True,\n",
    "                features_only=True,\n",
    "                out_indices=[1, 2, 3],\n",
    "            )"
   ]
  },
  {
   "cell_type": "code",
   "execution_count": 7,
   "id": "441ba489",
   "metadata": {
    "ExecuteTime": {
     "end_time": "2022-10-19T10:28:30.261485Z",
     "start_time": "2022-10-19T10:28:30.255758Z"
    },
    "scrolled": true
   },
   "outputs": [
    {
     "name": "stdout",
     "output_type": "stream",
     "text": [
      "FeatureListNet(\n",
      "  (conv1): Conv2d(3, 64, kernel_size=(7, 7), stride=(2, 2), padding=(3, 3), bias=False)\n",
      "  (bn1): BatchNorm2d(64, eps=1e-05, momentum=0.1, affine=True, track_running_stats=True)\n",
      "  (act1): ReLU(inplace=True)\n",
      "  (maxpool): MaxPool2d(kernel_size=3, stride=2, padding=1, dilation=1, ceil_mode=False)\n",
      "  (layer1): Sequential(\n",
      "    (0): BasicBlock(\n",
      "      (conv1): Conv2d(64, 64, kernel_size=(3, 3), stride=(1, 1), padding=(1, 1), bias=False)\n",
      "      (bn1): BatchNorm2d(64, eps=1e-05, momentum=0.1, affine=True, track_running_stats=True)\n",
      "      (act1): ReLU(inplace=True)\n",
      "      (conv2): Conv2d(64, 64, kernel_size=(3, 3), stride=(1, 1), padding=(1, 1), bias=False)\n",
      "      (bn2): BatchNorm2d(64, eps=1e-05, momentum=0.1, affine=True, track_running_stats=True)\n",
      "      (act2): ReLU(inplace=True)\n",
      "    )\n",
      "    (1): BasicBlock(\n",
      "      (conv1): Conv2d(64, 64, kernel_size=(3, 3), stride=(1, 1), padding=(1, 1), bias=False)\n",
      "      (bn1): BatchNorm2d(64, eps=1e-05, momentum=0.1, affine=True, track_running_stats=True)\n",
      "      (act1): ReLU(inplace=True)\n",
      "      (conv2): Conv2d(64, 64, kernel_size=(3, 3), stride=(1, 1), padding=(1, 1), bias=False)\n",
      "      (bn2): BatchNorm2d(64, eps=1e-05, momentum=0.1, affine=True, track_running_stats=True)\n",
      "      (act2): ReLU(inplace=True)\n",
      "    )\n",
      "  )\n",
      "  (layer2): Sequential(\n",
      "    (0): BasicBlock(\n",
      "      (conv1): Conv2d(64, 128, kernel_size=(3, 3), stride=(2, 2), padding=(1, 1), bias=False)\n",
      "      (bn1): BatchNorm2d(128, eps=1e-05, momentum=0.1, affine=True, track_running_stats=True)\n",
      "      (act1): ReLU(inplace=True)\n",
      "      (conv2): Conv2d(128, 128, kernel_size=(3, 3), stride=(1, 1), padding=(1, 1), bias=False)\n",
      "      (bn2): BatchNorm2d(128, eps=1e-05, momentum=0.1, affine=True, track_running_stats=True)\n",
      "      (act2): ReLU(inplace=True)\n",
      "      (downsample): Sequential(\n",
      "        (0): Conv2d(64, 128, kernel_size=(1, 1), stride=(2, 2), bias=False)\n",
      "        (1): BatchNorm2d(128, eps=1e-05, momentum=0.1, affine=True, track_running_stats=True)\n",
      "      )\n",
      "    )\n",
      "    (1): BasicBlock(\n",
      "      (conv1): Conv2d(128, 128, kernel_size=(3, 3), stride=(1, 1), padding=(1, 1), bias=False)\n",
      "      (bn1): BatchNorm2d(128, eps=1e-05, momentum=0.1, affine=True, track_running_stats=True)\n",
      "      (act1): ReLU(inplace=True)\n",
      "      (conv2): Conv2d(128, 128, kernel_size=(3, 3), stride=(1, 1), padding=(1, 1), bias=False)\n",
      "      (bn2): BatchNorm2d(128, eps=1e-05, momentum=0.1, affine=True, track_running_stats=True)\n",
      "      (act2): ReLU(inplace=True)\n",
      "    )\n",
      "  )\n",
      "  (layer3): Sequential(\n",
      "    (0): BasicBlock(\n",
      "      (conv1): Conv2d(128, 256, kernel_size=(3, 3), stride=(2, 2), padding=(1, 1), bias=False)\n",
      "      (bn1): BatchNorm2d(256, eps=1e-05, momentum=0.1, affine=True, track_running_stats=True)\n",
      "      (act1): ReLU(inplace=True)\n",
      "      (conv2): Conv2d(256, 256, kernel_size=(3, 3), stride=(1, 1), padding=(1, 1), bias=False)\n",
      "      (bn2): BatchNorm2d(256, eps=1e-05, momentum=0.1, affine=True, track_running_stats=True)\n",
      "      (act2): ReLU(inplace=True)\n",
      "      (downsample): Sequential(\n",
      "        (0): Conv2d(128, 256, kernel_size=(1, 1), stride=(2, 2), bias=False)\n",
      "        (1): BatchNorm2d(256, eps=1e-05, momentum=0.1, affine=True, track_running_stats=True)\n",
      "      )\n",
      "    )\n",
      "    (1): BasicBlock(\n",
      "      (conv1): Conv2d(256, 256, kernel_size=(3, 3), stride=(1, 1), padding=(1, 1), bias=False)\n",
      "      (bn1): BatchNorm2d(256, eps=1e-05, momentum=0.1, affine=True, track_running_stats=True)\n",
      "      (act1): ReLU(inplace=True)\n",
      "      (conv2): Conv2d(256, 256, kernel_size=(3, 3), stride=(1, 1), padding=(1, 1), bias=False)\n",
      "      (bn2): BatchNorm2d(256, eps=1e-05, momentum=0.1, affine=True, track_running_stats=True)\n",
      "      (act2): ReLU(inplace=True)\n",
      "    )\n",
      "  )\n",
      ")\n"
     ]
    }
   ],
   "source": [
    "print(feature_extractor)"
   ]
  },
  {
   "cell_type": "code",
   "execution_count": 8,
   "id": "66d5f766",
   "metadata": {
    "ExecuteTime": {
     "end_time": "2022-10-19T10:28:34.402808Z",
     "start_time": "2022-10-19T10:28:34.252202Z"
    }
   },
   "outputs": [
    {
     "name": "stdout",
     "output_type": "stream",
     "text": [
      "@@ name: conv1, X: torch.Size([32, 3, 256, 256])\n",
      "Conv2d output shape: \t torch.Size([32, 64, 128, 128])\n",
      "@@ name: bn1, X: torch.Size([32, 64, 128, 128])\n",
      "BatchNorm2d output shape: \t torch.Size([32, 64, 128, 128])\n",
      "@@ name: act1, X: torch.Size([32, 64, 128, 128])\n",
      "ReLU output shape: \t torch.Size([32, 64, 128, 128])\n",
      "@@ name: maxpool, X: torch.Size([32, 64, 128, 128])\n",
      "MaxPool2d output shape: \t torch.Size([32, 64, 64, 64])\n",
      "@@ name: layer1, X: torch.Size([32, 64, 64, 64])\n",
      "Sequential output shape: \t torch.Size([32, 64, 64, 64])\n",
      "@@ name: layer2, X: torch.Size([32, 64, 64, 64])\n",
      "Sequential output shape: \t torch.Size([32, 128, 32, 32])\n",
      "@@ name: layer3, X: torch.Size([32, 128, 32, 32])\n",
      "Sequential output shape: \t torch.Size([32, 256, 16, 16])\n"
     ]
    }
   ],
   "source": [
    "feature_extractor = feature_extractor.to(device)\n",
    "X = torch.rand(size = (32, 3, 256, 256), dtype=torch.float32).to(device)\n",
    "\n",
    "for name, layer in feature_extractor._modules.items():\n",
    "    print(f\"@@ name: {name}, X: {X.shape}\")\n",
    "    X = layer(X)\n",
    "    print(layer.__class__.__name__, 'output shape: \\t', X.shape)"
   ]
  },
  {
   "cell_type": "code",
   "execution_count": 9,
   "id": "ee0acdf1",
   "metadata": {
    "ExecuteTime": {
     "end_time": "2022-10-19T10:28:37.103486Z",
     "start_time": "2022-10-19T10:28:37.098970Z"
    }
   },
   "outputs": [
    {
     "name": "stdout",
     "output_type": "stream",
     "text": [
      "channels: [64, 128, 256]\n",
      "scales: [4, 8, 16]\n"
     ]
    }
   ],
   "source": [
    "channels = feature_extractor.feature_info.channels()\n",
    "print(f\"channels: {channels}\")\n",
    "scales = feature_extractor.feature_info.reduction()\n",
    "print(f\"scales: {scales}\")"
   ]
  },
  {
   "cell_type": "markdown",
   "id": "66df79fd",
   "metadata": {},
   "source": [
    "### norms \n",
    "对于 resnet，norms 是可训练的 LayerNorm"
   ]
  },
  {
   "cell_type": "markdown",
   "id": "b36ae001",
   "metadata": {},
   "source": [
    "### LayerNorm\n",
    "Pytorch LayerNorm: https://blog.csdn.net/weixin_39228381/article/details/107939602\n",
    "\n",
    "BatchNorm与LayerNorm的异同: https://zhuanlan.zhihu.com/p/428620330"
   ]
  },
  {
   "cell_type": "code",
   "execution_count": 10,
   "id": "d476aef3",
   "metadata": {
    "ExecuteTime": {
     "end_time": "2022-10-19T10:28:41.606543Z",
     "start_time": "2022-10-19T10:28:41.563939Z"
    }
   },
   "outputs": [
    {
     "name": "stdout",
     "output_type": "stream",
     "text": [
      "ModuleList()\n",
      "in_channels: 64, scale: 4\n",
      "in_channels: 128, scale: 8\n",
      "in_channels: 256, scale: 16\n",
      "after norms: ModuleList(\n",
      "  (0): LayerNorm((64, 64, 64), eps=1e-05, elementwise_affine=True)\n",
      "  (1): LayerNorm((128, 32, 32), eps=1e-05, elementwise_affine=True)\n",
      "  (2): LayerNorm((256, 16, 16), eps=1e-05, elementwise_affine=True)\n",
      ")\n"
     ]
    }
   ],
   "source": [
    "import torch.nn as nn\n",
    "import torch.nn.functional as F\n",
    "\n",
    "input_size = 256\n",
    "# 对于 resnet，self.norms 是可训练的 LayerNorm\n",
    "norms = nn.ModuleList()\n",
    "print(norms)\n",
    "for in_channels, scale in zip(channels, scales):\n",
    "    print(f\"in_channels: {in_channels}, scale: {scale}\")\n",
    "    norms.append(\n",
    "        nn.LayerNorm(\n",
    "            [in_channels, int(input_size / scale), int(input_size / scale)], \n",
    "            elementwise_affine=True,\n",
    "        ) \n",
    "    )\n",
    "print(f\"after norms: {norms}\")"
   ]
  },
  {
   "cell_type": "code",
   "execution_count": 11,
   "id": "31829619",
   "metadata": {
    "ExecuteTime": {
     "end_time": "2022-10-19T10:28:52.137093Z",
     "start_time": "2022-10-19T10:28:52.133370Z"
    }
   },
   "outputs": [],
   "source": [
    "for param in feature_extractor.parameters():\n",
    "    param.requires_grad = False"
   ]
  },
  {
   "cell_type": "markdown",
   "id": "9f02de04",
   "metadata": {
    "ExecuteTime": {
     "end_time": "2022-10-18T07:48:18.725492Z",
     "start_time": "2022-10-18T07:48:18.672246Z"
    }
   },
   "source": [
    "### forward"
   ]
  },
  {
   "cell_type": "code",
   "execution_count": 12,
   "id": "6cb6eaab",
   "metadata": {
    "ExecuteTime": {
     "end_time": "2022-10-19T10:29:24.000609Z",
     "start_time": "2022-10-19T10:29:23.869669Z"
    }
   },
   "outputs": [
    {
     "name": "stdout",
     "output_type": "stream",
     "text": [
      "features: 3, torch.Size([32, 64, 64, 64]), torch.Size([32, 128, 32, 32]), torch.Size([32, 256, 16, 16])\n",
      "norms: ModuleList(\n",
      "  (0): LayerNorm((64, 64, 64), eps=1e-05, elementwise_affine=True)\n",
      "  (1): LayerNorm((128, 32, 32), eps=1e-05, elementwise_affine=True)\n",
      "  (2): LayerNorm((256, 16, 16), eps=1e-05, elementwise_affine=True)\n",
      ")\n"
     ]
    }
   ],
   "source": [
    "X = torch.rand(size = (32, 3, 256, 256), dtype=torch.float32).to(device)\n",
    "feature_extractor = feature_extractor.eval()\n",
    "features = feature_extractor(X)\n",
    "print(f\"features: {len(features)}, {features[0].shape}, {features[1].shape}, {features[2].shape}\")\n",
    "norms = norms.to(device)\n",
    "print(f\"norms: {norms}\")\n",
    "\n",
    "# norms\n",
    "features = [norms[i](feature) for i, feature in enumerate(features)]\n",
    "# fe = []\n",
    "# for i, feature in enumerate(features):\n",
    "#     print(f\"i: {i}, feature: {feature.shape}\")\n",
    "#     temp = norms[i](feature)\n",
    "#     print(f\"temp: {temp.shape}\")"
   ]
  },
  {
   "cell_type": "code",
   "execution_count": null,
   "id": "58781192",
   "metadata": {},
   "outputs": [],
   "source": []
  },
  {
   "cell_type": "markdown",
   "id": "02562a1b",
   "metadata": {},
   "source": [
    "## flows 模块\n",
    "\n",
    "pytorch 网络结构解析：\n",
    "https://blog.csdn.net/hxxjxw/article/details/107734140\n",
    "\n",
    "https://zhuanlan.zhihu.com/p/448011103"
   ]
  },
  {
   "cell_type": "code",
   "execution_count": 60,
   "id": "c4e50739",
   "metadata": {
    "ExecuteTime": {
     "end_time": "2022-10-24T07:03:22.282333Z",
     "start_time": "2022-10-24T07:03:22.278974Z"
    }
   },
   "outputs": [],
   "source": [
    "nf_flows = nn.ModuleList()"
   ]
  },
  {
   "cell_type": "code",
   "execution_count": 61,
   "id": "5cbabb60",
   "metadata": {
    "ExecuteTime": {
     "end_time": "2022-10-24T07:03:22.894625Z",
     "start_time": "2022-10-24T07:03:22.886238Z"
    }
   },
   "outputs": [],
   "source": [
    "import FrEIA.framework as Ff\n",
    "import FrEIA.modules as Fm\n",
    "\n",
    "def subnet_conv_func(kernel_size, hidden_ratio):\n",
    "    def subnet_conv(in_channels, out_channels):\n",
    "        hidden_channels = int(in_channels * hidden_ratio)\n",
    "        return nn.Sequential(\n",
    "            nn.Conv2d(in_channels, hidden_channels, kernel_size, padding=\"same\"),\n",
    "            nn.ReLU(),\n",
    "            nn.Conv2d(hidden_channels, out_channels, kernel_size, padding=\"same\"),\n",
    "        )\n",
    "\n",
    "    return subnet_conv\n",
    "\n",
    "def nf_fast_flow(input_chw, conv3x3_only, hidden_ratio, flow_steps, clamp=2.0):\n",
    "    nodes = Ff.SequenceINN(*input_chw)\n",
    "    for i in range(flow_steps):\n",
    "        if i % 2 == 1 and not conv3x3_only:\n",
    "            kernel_size = 1\n",
    "        else:\n",
    "            kernel_size = 3\n",
    "        nodes.append(\n",
    "            Fm.AllInOneBlock,\n",
    "            subnet_constructor=subnet_conv_func(kernel_size, hidden_ratio),\n",
    "            affine_clamping=clamp,\n",
    "            permute_soft=False,\n",
    "        )\n",
    "    return nodes"
   ]
  },
  {
   "cell_type": "code",
   "execution_count": 62,
   "id": "e7c5ecd8",
   "metadata": {
    "ExecuteTime": {
     "end_time": "2022-10-24T07:03:27.907408Z",
     "start_time": "2022-10-24T07:03:27.702115Z"
    }
   },
   "outputs": [],
   "source": [
    "conv3x3_only = False\n",
    "hidden_ratio = 1.0\n",
    "flow_steps = 8\n",
    "\n",
    "for in_channels, scale in zip(channels, scales):\n",
    "    nf_flows.append(\n",
    "        nf_fast_flow(\n",
    "            [in_channels, int(input_size / scale), int(input_size / scale)], # [768, 16, 16]\n",
    "            conv3x3_only=conv3x3_only,\n",
    "            hidden_ratio=hidden_ratio,\n",
    "            flow_steps=flow_steps,\n",
    "        )\n",
    "    )"
   ]
  },
  {
   "cell_type": "code",
   "execution_count": 63,
   "id": "dbb3daea",
   "metadata": {
    "ExecuteTime": {
     "end_time": "2022-10-24T07:03:28.598614Z",
     "start_time": "2022-10-24T07:03:28.592990Z"
    },
    "scrolled": true
   },
   "outputs": [
    {
     "name": "stdout",
     "output_type": "stream",
     "text": [
      "ModuleList(\n",
      "  (0): SequenceINN(\n",
      "    (module_list): ModuleList(\n",
      "      (0): AllInOneBlock(\n",
      "        (softplus): Softplus(beta=0.5, threshold=20)\n",
      "        (subnet): Sequential(\n",
      "          (0): Conv2d(32, 32, kernel_size=(3, 3), stride=(1, 1), padding=same)\n",
      "          (1): ReLU()\n",
      "          (2): Conv2d(32, 64, kernel_size=(3, 3), stride=(1, 1), padding=same)\n",
      "        )\n",
      "      )\n",
      "      (1): AllInOneBlock(\n",
      "        (softplus): Softplus(beta=0.5, threshold=20)\n",
      "        (subnet): Sequential(\n",
      "          (0): Conv2d(32, 32, kernel_size=(1, 1), stride=(1, 1), padding=same)\n",
      "          (1): ReLU()\n",
      "          (2): Conv2d(32, 64, kernel_size=(1, 1), stride=(1, 1), padding=same)\n",
      "        )\n",
      "      )\n",
      "      (2): AllInOneBlock(\n",
      "        (softplus): Softplus(beta=0.5, threshold=20)\n",
      "        (subnet): Sequential(\n",
      "          (0): Conv2d(32, 32, kernel_size=(3, 3), stride=(1, 1), padding=same)\n",
      "          (1): ReLU()\n",
      "          (2): Conv2d(32, 64, kernel_size=(3, 3), stride=(1, 1), padding=same)\n",
      "        )\n",
      "      )\n",
      "      (3): AllInOneBlock(\n",
      "        (softplus): Softplus(beta=0.5, threshold=20)\n",
      "        (subnet): Sequential(\n",
      "          (0): Conv2d(32, 32, kernel_size=(1, 1), stride=(1, 1), padding=same)\n",
      "          (1): ReLU()\n",
      "          (2): Conv2d(32, 64, kernel_size=(1, 1), stride=(1, 1), padding=same)\n",
      "        )\n",
      "      )\n",
      "      (4): AllInOneBlock(\n",
      "        (softplus): Softplus(beta=0.5, threshold=20)\n",
      "        (subnet): Sequential(\n",
      "          (0): Conv2d(32, 32, kernel_size=(3, 3), stride=(1, 1), padding=same)\n",
      "          (1): ReLU()\n",
      "          (2): Conv2d(32, 64, kernel_size=(3, 3), stride=(1, 1), padding=same)\n",
      "        )\n",
      "      )\n",
      "      (5): AllInOneBlock(\n",
      "        (softplus): Softplus(beta=0.5, threshold=20)\n",
      "        (subnet): Sequential(\n",
      "          (0): Conv2d(32, 32, kernel_size=(1, 1), stride=(1, 1), padding=same)\n",
      "          (1): ReLU()\n",
      "          (2): Conv2d(32, 64, kernel_size=(1, 1), stride=(1, 1), padding=same)\n",
      "        )\n",
      "      )\n",
      "      (6): AllInOneBlock(\n",
      "        (softplus): Softplus(beta=0.5, threshold=20)\n",
      "        (subnet): Sequential(\n",
      "          (0): Conv2d(32, 32, kernel_size=(3, 3), stride=(1, 1), padding=same)\n",
      "          (1): ReLU()\n",
      "          (2): Conv2d(32, 64, kernel_size=(3, 3), stride=(1, 1), padding=same)\n",
      "        )\n",
      "      )\n",
      "      (7): AllInOneBlock(\n",
      "        (softplus): Softplus(beta=0.5, threshold=20)\n",
      "        (subnet): Sequential(\n",
      "          (0): Conv2d(32, 32, kernel_size=(1, 1), stride=(1, 1), padding=same)\n",
      "          (1): ReLU()\n",
      "          (2): Conv2d(32, 64, kernel_size=(1, 1), stride=(1, 1), padding=same)\n",
      "        )\n",
      "      )\n",
      "    )\n",
      "  )\n",
      "  (1): SequenceINN(\n",
      "    (module_list): ModuleList(\n",
      "      (0): AllInOneBlock(\n",
      "        (softplus): Softplus(beta=0.5, threshold=20)\n",
      "        (subnet): Sequential(\n",
      "          (0): Conv2d(64, 64, kernel_size=(3, 3), stride=(1, 1), padding=same)\n",
      "          (1): ReLU()\n",
      "          (2): Conv2d(64, 128, kernel_size=(3, 3), stride=(1, 1), padding=same)\n",
      "        )\n",
      "      )\n",
      "      (1): AllInOneBlock(\n",
      "        (softplus): Softplus(beta=0.5, threshold=20)\n",
      "        (subnet): Sequential(\n",
      "          (0): Conv2d(64, 64, kernel_size=(1, 1), stride=(1, 1), padding=same)\n",
      "          (1): ReLU()\n",
      "          (2): Conv2d(64, 128, kernel_size=(1, 1), stride=(1, 1), padding=same)\n",
      "        )\n",
      "      )\n",
      "      (2): AllInOneBlock(\n",
      "        (softplus): Softplus(beta=0.5, threshold=20)\n",
      "        (subnet): Sequential(\n",
      "          (0): Conv2d(64, 64, kernel_size=(3, 3), stride=(1, 1), padding=same)\n",
      "          (1): ReLU()\n",
      "          (2): Conv2d(64, 128, kernel_size=(3, 3), stride=(1, 1), padding=same)\n",
      "        )\n",
      "      )\n",
      "      (3): AllInOneBlock(\n",
      "        (softplus): Softplus(beta=0.5, threshold=20)\n",
      "        (subnet): Sequential(\n",
      "          (0): Conv2d(64, 64, kernel_size=(1, 1), stride=(1, 1), padding=same)\n",
      "          (1): ReLU()\n",
      "          (2): Conv2d(64, 128, kernel_size=(1, 1), stride=(1, 1), padding=same)\n",
      "        )\n",
      "      )\n",
      "      (4): AllInOneBlock(\n",
      "        (softplus): Softplus(beta=0.5, threshold=20)\n",
      "        (subnet): Sequential(\n",
      "          (0): Conv2d(64, 64, kernel_size=(3, 3), stride=(1, 1), padding=same)\n",
      "          (1): ReLU()\n",
      "          (2): Conv2d(64, 128, kernel_size=(3, 3), stride=(1, 1), padding=same)\n",
      "        )\n",
      "      )\n",
      "      (5): AllInOneBlock(\n",
      "        (softplus): Softplus(beta=0.5, threshold=20)\n",
      "        (subnet): Sequential(\n",
      "          (0): Conv2d(64, 64, kernel_size=(1, 1), stride=(1, 1), padding=same)\n",
      "          (1): ReLU()\n",
      "          (2): Conv2d(64, 128, kernel_size=(1, 1), stride=(1, 1), padding=same)\n",
      "        )\n",
      "      )\n",
      "      (6): AllInOneBlock(\n",
      "        (softplus): Softplus(beta=0.5, threshold=20)\n",
      "        (subnet): Sequential(\n",
      "          (0): Conv2d(64, 64, kernel_size=(3, 3), stride=(1, 1), padding=same)\n",
      "          (1): ReLU()\n",
      "          (2): Conv2d(64, 128, kernel_size=(3, 3), stride=(1, 1), padding=same)\n",
      "        )\n",
      "      )\n",
      "      (7): AllInOneBlock(\n",
      "        (softplus): Softplus(beta=0.5, threshold=20)\n",
      "        (subnet): Sequential(\n",
      "          (0): Conv2d(64, 64, kernel_size=(1, 1), stride=(1, 1), padding=same)\n",
      "          (1): ReLU()\n",
      "          (2): Conv2d(64, 128, kernel_size=(1, 1), stride=(1, 1), padding=same)\n",
      "        )\n",
      "      )\n",
      "    )\n",
      "  )\n",
      "  (2): SequenceINN(\n",
      "    (module_list): ModuleList(\n",
      "      (0): AllInOneBlock(\n",
      "        (softplus): Softplus(beta=0.5, threshold=20)\n",
      "        (subnet): Sequential(\n",
      "          (0): Conv2d(128, 128, kernel_size=(3, 3), stride=(1, 1), padding=same)\n",
      "          (1): ReLU()\n",
      "          (2): Conv2d(128, 256, kernel_size=(3, 3), stride=(1, 1), padding=same)\n",
      "        )\n",
      "      )\n",
      "      (1): AllInOneBlock(\n",
      "        (softplus): Softplus(beta=0.5, threshold=20)\n",
      "        (subnet): Sequential(\n",
      "          (0): Conv2d(128, 128, kernel_size=(1, 1), stride=(1, 1), padding=same)\n",
      "          (1): ReLU()\n",
      "          (2): Conv2d(128, 256, kernel_size=(1, 1), stride=(1, 1), padding=same)\n",
      "        )\n",
      "      )\n",
      "      (2): AllInOneBlock(\n",
      "        (softplus): Softplus(beta=0.5, threshold=20)\n",
      "        (subnet): Sequential(\n",
      "          (0): Conv2d(128, 128, kernel_size=(3, 3), stride=(1, 1), padding=same)\n",
      "          (1): ReLU()\n",
      "          (2): Conv2d(128, 256, kernel_size=(3, 3), stride=(1, 1), padding=same)\n",
      "        )\n",
      "      )\n",
      "      (3): AllInOneBlock(\n",
      "        (softplus): Softplus(beta=0.5, threshold=20)\n",
      "        (subnet): Sequential(\n",
      "          (0): Conv2d(128, 128, kernel_size=(1, 1), stride=(1, 1), padding=same)\n",
      "          (1): ReLU()\n",
      "          (2): Conv2d(128, 256, kernel_size=(1, 1), stride=(1, 1), padding=same)\n",
      "        )\n",
      "      )\n",
      "      (4): AllInOneBlock(\n",
      "        (softplus): Softplus(beta=0.5, threshold=20)\n",
      "        (subnet): Sequential(\n",
      "          (0): Conv2d(128, 128, kernel_size=(3, 3), stride=(1, 1), padding=same)\n",
      "          (1): ReLU()\n",
      "          (2): Conv2d(128, 256, kernel_size=(3, 3), stride=(1, 1), padding=same)\n",
      "        )\n",
      "      )\n",
      "      (5): AllInOneBlock(\n",
      "        (softplus): Softplus(beta=0.5, threshold=20)\n",
      "        (subnet): Sequential(\n",
      "          (0): Conv2d(128, 128, kernel_size=(1, 1), stride=(1, 1), padding=same)\n",
      "          (1): ReLU()\n",
      "          (2): Conv2d(128, 256, kernel_size=(1, 1), stride=(1, 1), padding=same)\n",
      "        )\n",
      "      )\n",
      "      (6): AllInOneBlock(\n",
      "        (softplus): Softplus(beta=0.5, threshold=20)\n",
      "        (subnet): Sequential(\n",
      "          (0): Conv2d(128, 128, kernel_size=(3, 3), stride=(1, 1), padding=same)\n",
      "          (1): ReLU()\n",
      "          (2): Conv2d(128, 256, kernel_size=(3, 3), stride=(1, 1), padding=same)\n",
      "        )\n",
      "      )\n",
      "      (7): AllInOneBlock(\n",
      "        (softplus): Softplus(beta=0.5, threshold=20)\n",
      "        (subnet): Sequential(\n",
      "          (0): Conv2d(128, 128, kernel_size=(1, 1), stride=(1, 1), padding=same)\n",
      "          (1): ReLU()\n",
      "          (2): Conv2d(128, 256, kernel_size=(1, 1), stride=(1, 1), padding=same)\n",
      "        )\n",
      "      )\n",
      "    )\n",
      "  )\n",
      ")\n"
     ]
    }
   ],
   "source": [
    "print(nf_flows)"
   ]
  },
  {
   "cell_type": "code",
   "execution_count": 57,
   "id": "9f5ca43c",
   "metadata": {
    "ExecuteTime": {
     "end_time": "2022-10-24T06:52:26.788391Z",
     "start_time": "2022-10-24T06:52:26.495373Z"
    }
   },
   "outputs": [
    {
     "name": "stdout",
     "output_type": "stream",
     "text": [
      "X1: torch.Size([32, 64, 64, 64]), \n",
      " tensor([3928.0762, 3934.5725, 3934.5757, 3910.5762, 3898.6094, 3947.3840,\n",
      "        3917.0845, 3935.8203, 3904.4421, 3914.0430, 3931.2612, 3919.1550,\n",
      "        3906.4424, 3938.1455, 3919.1306, 3920.9617, 3923.2271, 3901.5483,\n",
      "        3939.3652, 3910.0681, 3919.4487, 3929.3357, 3919.4856, 3909.6033,\n",
      "        3914.6418, 3938.1785, 3935.5178, 3917.1963, 3943.1675, 3922.4468,\n",
      "        3925.0583, 3927.7769], device='cuda:2', grad_fn=<AddBackward0>)\n",
      "X2: torch.Size([32, 128, 32, 32]), \n",
      " tensor([493.1341, 490.2305, 492.5671, 508.2561, 506.9001, 500.0766, 524.6436,\n",
      "        493.1770, 511.7162, 508.5134, 495.2982, 496.2484, 492.0012, 498.4301,\n",
      "        498.3500, 507.9825, 498.3142, 489.6389, 507.3504, 504.7838, 513.4261,\n",
      "        496.3504, 509.3570, 504.8654, 506.7211, 512.7775, 503.7800, 495.3903,\n",
      "        516.8751, 508.0291, 504.3040, 492.5903], device='cuda:2',\n",
      "       grad_fn=<AddBackward0>)\n",
      "X3: torch.Size([32, 256, 16, 16]), \n",
      " tensor([-106.7309,  -99.4501,  -95.3808,  -87.6637,  -83.0952, -102.1322,\n",
      "        -101.2469, -101.2551,  -90.9140,  -92.4879, -108.2150,  -94.3825,\n",
      "         -98.1310,  -90.0710,  -87.7731,  -93.1008,  -94.8374,  -92.7469,\n",
      "         -87.7355,  -92.3495,  -93.1001,  -94.3787,  -98.1579,  -94.7984,\n",
      "         -95.2692,  -96.7739,  -96.4258,  -96.6340, -101.6401,  -95.6458,\n",
      "         -95.8208,  -91.5907], device='cuda:2', grad_fn=<AddBackward0>)\n"
     ]
    }
   ],
   "source": [
    "X1 = torch.rand(size = (32, 64, 64, 64), dtype=torch.float32).to(device)\n",
    "X2 = torch.rand(size = (32, 128, 32, 32), dtype=torch.float32).to(device)\n",
    "X3 = torch.rand(size = (32, 256, 16, 16), dtype=torch.float32).to(device)\n",
    "\n",
    "nf_flows_one = nf_flows[0].to(device)\n",
    "X1, _ = nf_flows_one(X1)\n",
    "print(f\"X1: {X1.shape}, \\n {_}\")\n",
    "\n",
    "nf_flows_two =  nf_flows[1].to(device)\n",
    "X2, _ = nf_flows_two(X2)\n",
    "print(f\"X2: {X2.shape}, \\n {_}\")\n",
    "\n",
    "nf_flows_three =  nf_flows[2].to(device)\n",
    "X3,_ = nf_flows_three(X3)\n",
    "print(f\"X3: {X3.shape}, \\n {_}\")\n",
    "\n",
    "# print(nf_flows_two)\n",
    "# print(nf_flows_two.modules())\n",
    "# model_modules = [x for x in nf_flows_two.modules()]\n",
    "# print(model_modules)\n"
   ]
  },
  {
   "cell_type": "markdown",
   "id": "c07d499c",
   "metadata": {},
   "source": [
    "### forward"
   ]
  },
  {
   "cell_type": "code",
   "execution_count": 19,
   "id": "f012dac4",
   "metadata": {
    "ExecuteTime": {
     "end_time": "2022-10-19T10:30:54.273831Z",
     "start_time": "2022-10-19T10:30:54.202599Z"
    }
   },
   "outputs": [
    {
     "name": "stdout",
     "output_type": "stream",
     "text": [
      "## i: 0, feature: torch.Size([32, 64, 64, 64])\n",
      "output: torch.Size([32, 64, 64, 64]), log_jac_dets: torch.Size([32])\n",
      "out_sum: tensor([131953.5000, 131973.6406, 131914.7812, 132039.9375, 132001.7188,\n",
      "        131991.1094, 131978.5000, 132083.7031, 131929.1562, 131926.4844,\n",
      "        131949.4688, 132014.7500, 131919.0000, 132024.9531, 131949.8125,\n",
      "        132062.1250, 131917.4375, 131972.7656, 132004.9688, 132089.2500,\n",
      "        132095.0469, 131926.3750, 131917.4688, 132001.9375, 132052.9688,\n",
      "        132022.6406, 132011.4375, 131971.0625, 132027.4375, 131923.6562,\n",
      "        131841.1406, 131955.2812], device='cuda:2', grad_fn=<MulBackward0>) \n",
      " log_jac_dets: tensor([-886.8148, -859.9922, -869.7710, -851.5143, -870.9393, -865.7727,\n",
      "        -892.1818, -879.9391, -879.6431, -882.8421, -896.1637, -876.7573,\n",
      "        -890.7874, -858.4618, -896.0576, -860.5729, -868.0703, -866.9240,\n",
      "        -876.7052, -891.5291, -862.3875, -887.8175, -861.6735, -889.7319,\n",
      "        -872.1165, -893.6196, -866.3461, -906.7305, -872.1483, -880.7433,\n",
      "        -885.8872, -872.4552], device='cuda:2', grad_fn=<AddBackward0>)\n",
      "loss: 132859.875\n",
      "## i: 1, feature: torch.Size([32, 128, 32, 32])\n",
      "output: torch.Size([32, 128, 32, 32]), log_jac_dets: torch.Size([32])\n",
      "out_sum: tensor([66294.2812, 66427.5781, 66522.7422, 66477.5781, 66323.9297, 66299.5000,\n",
      "        66409.2266, 66364.7891, 66483.0625, 66285.5156, 66358.6406, 66257.2812,\n",
      "        66423.4844, 66399.2188, 66433.1719, 66507.8828, 66286.4219, 66457.2500,\n",
      "        66349.5156, 66416.2109, 66449.5391, 66368.3906, 66300.2188, 66363.3281,\n",
      "        66354.0234, 66201.0000, 66418.5781, 66526.0312, 66377.0234, 66364.8750,\n",
      "        66271.0234, 66544.6562], device='cuda:2', grad_fn=<MulBackward0>) \n",
      " log_jac_dets: tensor([-272.3130, -256.3796, -234.4231, -254.6057, -257.5209, -219.2701,\n",
      "        -220.0781, -236.5599, -248.7826, -279.5252, -265.4493, -296.5272,\n",
      "        -252.6789, -266.7769, -263.6706, -238.7166, -269.5219, -247.0816,\n",
      "        -260.6268, -273.5636, -275.6461, -290.8886, -288.7283, -241.9634,\n",
      "        -306.5845, -276.1644, -228.5562, -207.4903, -277.8101, -287.6668,\n",
      "        -283.4997, -218.0418], device='cuda:2', grad_fn=<AddBackward0>)\n",
      "loss: 199504.03125\n",
      "## i: 2, feature: torch.Size([32, 256, 16, 16])\n",
      "output: torch.Size([32, 256, 16, 16]), log_jac_dets: torch.Size([32])\n",
      "out_sum: tensor([32908.7734, 32908.4531, 32856.0781, 33113.5664, 32912.5312, 32909.5898,\n",
      "        32892.5898, 32958.6055, 32945.9844, 32959.3555, 32962.7812, 32963.4297,\n",
      "        32935.4219, 32861.6641, 32954.5508, 32962.7812, 32922.6875, 32964.6562,\n",
      "        32791.7930, 32967.7773, 32957.3281, 32959.5469, 33001.9609, 32879.4023,\n",
      "        32828.0547, 32980.4883, 33017.7891, 32881.9297, 32948.9688, 32865.3281,\n",
      "        32883.3750, 32921.9375], device='cuda:2', grad_fn=<MulBackward0>) \n",
      " log_jac_dets: tensor([ -9.6572,  11.0808, -13.7028,  20.0982, -23.4063, -33.3174,  -1.9157,\n",
      "          3.3937, -12.1443,  -7.7603, -13.4622, -20.0198,   0.4980, -59.7288,\n",
      "         -3.4837,   5.1984,   1.7443, -14.5347, -17.3226, -12.2720,  -6.6388,\n",
      "        -26.0517, -19.2660, -28.7862, -15.8923,  13.1778, -19.0986,  10.4535,\n",
      "        -24.3032, -12.8603,  -0.8451,  -3.1668], device='cuda:2',\n",
      "       grad_fn=<AddBackward0>)\n",
      "loss: 232445.0625\n"
     ]
    }
   ],
   "source": [
    "loss = 0\n",
    "outputs = []\n",
    "\n",
    "nf_flows = nf_flows.to(device)\n",
    "for i, feature in enumerate(features):\n",
    "    print(f\"## i: {i}, feature: {feature.shape}\")\n",
    "    # print(f\"{nf_flows[i]}\")\n",
    "    output, log_jac_dets = nf_flows[i](feature)\n",
    "    # print(f\"output:{output}\")\n",
    "    print(f\"output: {output.shape}, log_jac_dets: {log_jac_dets.shape}\")\n",
    "    out_sum = torch.sum(output**2, dim=(1, 2, 3))\n",
    "    # output:\n",
    "    # log_jac_dets:\n",
    "    print(f\"out_sum: {0.5* out_sum} \\n log_jac_dets: {log_jac_dets}\")\n",
    "    loss += torch.mean(\n",
    "        0.5 * torch.sum(output**2, dim=(1, 2, 3)) - log_jac_dets\n",
    "    )\n",
    "    print(f\"loss: {loss}\")"
   ]
  },
  {
   "cell_type": "markdown",
   "id": "84b7c31a",
   "metadata": {},
   "source": [
    "## FrEIA.framework 与 FrEIA.modules\n",
    "https://github.com/vislearn/FrEIA\n",
    "\n",
    "FrEIA:  Framework for Easily Invertible Architectures 易于可逆架构的框架\n",
    "\n",
    "    1、Construct Invertible Neural Networks (INNs) from simple invertible building blocks.\n",
    "        从简单的可逆构建块构建可逆神经网络 (INN)\n",
    "    2、Quickly construct complex invertible computation graphs and INN topologies.\n",
    "        快速构建复杂的可逆计算图和 INN 拓扑\n",
    "    3、Forward and inverse computation guaranteed to work automatically.\n",
    "        正向和反向计算保证自动工作\n",
    "    4、Most common invertible transforms and operations are provided.\n",
    "        提供了最常见的可逆变换和操作\n",
    "    5、Easily add your own invertible transforms.\n",
    "        轻松添加您自己的可逆变换"
   ]
  },
  {
   "attachments": {
    "image.png": {
     "image/png": "[encoded data removed]"
    }
   },
   "cell_type": "markdown",
   "id": "e40d4601",
   "metadata": {},
   "source": [
    "### 3x3 flow\n",
    "\n",
    "      (0): AllInOneBlock(\n",
    "        (softplus): Softplus(beta=0.5, threshold=20)\n",
    "        (subnet): Sequential(\n",
    "          (0): Conv2d(32, 32, kernel_size=(3, 3), stride=(1, 1), padding=same)\n",
    "          (1): ReLU()\n",
    "          (2): Conv2d(32, 64, kernel_size=(3, 3), stride=(1, 1), padding=same)\n",
    "        )\n",
    "      )\n",
    "      \n",
    " ![image.png](attachment:image.png)"
   ]
  },
  {
   "cell_type": "markdown",
   "id": "891b4ec7",
   "metadata": {},
   "source": [
    "### INN\n",
    "可逆神经网络\n",
    "\n",
    "    1、Stochastic gradient descent will not work (well) for INNs. Use e.g. Adam instead.\n",
    "        随机梯度下降（SGD）对 INN 不起作用（很好）。使用例如取而代之的是 Adam。"
   ]
  },
  {
   "cell_type": "markdown",
   "id": "a5ef9161",
   "metadata": {},
   "source": [
    "### FrEIA.framework.SequenceINN(*dims: int, force_tuple_output=False)\n",
    "\n",
    "仅支持一系列连续的模块（不支持拆分、合并、分支）。有一个 append() 方法，以比 GraphINN 的基于计算图的方法更简单的方式添加新块。"
   ]
  },
  {
   "cell_type": "code",
   "execution_count": null,
   "id": "b8a8bb3c",
   "metadata": {},
   "outputs": [],
   "source": []
  },
  {
   "cell_type": "markdown",
   "id": "1d5f76cf",
   "metadata": {},
   "source": [
    "### 可逆运算\n"
   ]
  },
  {
   "cell_type": "markdown",
   "id": "51405db1",
   "metadata": {},
   "source": [
    "#### 耦合快"
   ]
  },
  {
   "cell_type": "markdown",
   "id": "ac296da9",
   "metadata": {},
   "source": [
    "#### 定义自定义可逆操作 Defining custom invertible operations \n",
    "\n"
   ]
  },
  {
   "cell_type": "code",
   "execution_count": null,
   "id": "0f23e8c2",
   "metadata": {},
   "outputs": [],
   "source": []
  },
  {
   "cell_type": "markdown",
   "id": "40e51d85",
   "metadata": {},
   "source": [
    "### Example"
   ]
  },
  {
   "cell_type": "code",
   "execution_count": null,
   "id": "264af797",
   "metadata": {},
   "outputs": [],
   "source": []
  },
  {
   "cell_type": "markdown",
   "id": "fdf2c1e2",
   "metadata": {},
   "source": [
    "## 损失函数：负对数似然\n",
    "https://www.jianshu.com/p/61cf7f2ac53f"
   ]
  },
  {
   "cell_type": "markdown",
   "id": "5eedf09d",
   "metadata": {},
   "source": [
    "### 似然\n",
    "似然(likelihood)和概率(probability)。概率是一个事件发生的可能性，而似然指的是影响概率的未知参数。也就是说，概率是在该未知参数已知的情况下所得到的结果；而似然是该参数未知，我们需要根据观察结果，来估计概率模型的参数。\n"
   ]
  },
  {
   "cell_type": "markdown",
   "id": "bc9b9fa8",
   "metadata": {},
   "source": [
    "### 对数似然\n",
    "\n",
    "最大似然估计的一般步骤如下：\n",
    "\n",
    "    (1) 写出似然函数;\n",
    "    (2) 对似然函数取对数,得到对数似然函数;\n",
    "    (3) 求对数似然函数的关于参数组的偏导数,并令其为0,得到似然方程组;\n",
    "    (4) 解似然方程组,得到参数组的值。"
   ]
  },
  {
   "cell_type": "markdown",
   "id": "045a3a55",
   "metadata": {},
   "source": [
    "### 负对数似然\n",
    "我们期望似然估计越大越好，取完负号之后就是负对数似然越小越好，因此负对数似然函数可以作为损失函数。"
   ]
  },
  {
   "cell_type": "markdown",
   "id": "cd7d127b",
   "metadata": {},
   "source": [
    "## AUROC"
   ]
  },
  {
   "cell_type": "markdown",
   "id": "206723b0",
   "metadata": {},
   "source": [
    "AUROC（Area Under the Receiver Operating Characteristic Curve）是一种用于评估二分类模型性能的指标。ROC 曲线是一种图形工具，它显示了在不同阈值下真正例率（True Positive Rate，也称为敏感性）与假正例率（False Positive Rate）之间的权衡。\n",
    "\n",
    "ROC 曲线的 x 轴是假正例率（FPR），y 轴是真正例率（TPR），其计算公式为：\n",
    "\n",
    "ROC 曲线下的面积即为 AUROC，该值越接近1表示模型性能越好，越接近0.5表示性能越差（随机猜测的模型）。"
   ]
  },
  {
   "cell_type": "code",
   "execution_count": 9,
   "id": "b255d095",
   "metadata": {
    "ExecuteTime": {
     "end_time": "2023-11-27T08:17:06.225839Z",
     "start_time": "2023-11-27T08:17:06.220854Z"
    }
   },
   "outputs": [],
   "source": [
    "from ignite.contrib import metrics\n",
    "from ignite.engine import create_supervised_evaluator\n",
    "from ignite.contrib.metrics import ROC_AUC"
   ]
  },
  {
   "cell_type": "code",
   "execution_count": null,
   "id": "4386df17",
   "metadata": {},
   "outputs": [],
   "source": []
  }
 ],
 "metadata": {
  "kernelspec": {
   "display_name": "Python 3",
   "language": "python",
   "name": "python3"
  },
  "language_info": {
   "codemirror_mode": {
    "name": "ipython",
    "version": 3
   },
   "file_extension": ".py",
   "mimetype": "text/x-python",
   "name": "python",
   "nbconvert_exporter": "python",
   "pygments_lexer": "ipython3",
   "version": "3.7.16"
  },
  "toc": {
   "base_numbering": 1,
   "nav_menu": {},
   "number_sections": true,
   "sideBar": true,
   "skip_h1_title": false,
   "title_cell": "Table of Contents",
   "title_sidebar": "Contents",
   "toc_cell": false,
   "toc_position": {},
   "toc_section_display": true,
   "toc_window_display": true
  }
 },
 "nbformat": 4,
 "nbformat_minor": 5
}
