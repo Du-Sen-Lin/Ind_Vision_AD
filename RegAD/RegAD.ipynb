{
 "cells": [
  {
   "cell_type": "code",
   "execution_count": 1,
   "id": "7c672f27",
   "metadata": {
    "ExecuteTime": {
     "end_time": "2023-12-06T01:55:14.844067Z",
     "start_time": "2023-12-06T01:55:14.123315Z"
    }
   },
   "outputs": [],
   "source": [
    "import torch\n",
    "\n",
    "# 指定.pt 文件路径\n",
    "model_path = '/root/dataset/public/RegAD/support_set/support_set/bottle/2_10.pt'\n",
    "\n",
    "# 加载模型\n",
    "model = torch.load(model_path, map_location=torch.device('cpu'))\n",
    "\n",
    "# 打印模型的结构\n",
    "# print(model)\n",
    "\n",
    "# 如果你只想加载模型的权重，而不包括模型结构等信息，可以使用以下方法：\n",
    "# model_weights = torch.load(model_path, map_location=torch.device('cpu'))['state_dict']\n",
    "# model.load_state_dict(model_weights)\n"
   ]
  },
  {
   "cell_type": "code",
   "execution_count": 2,
   "id": "bca24c55",
   "metadata": {
    "ExecuteTime": {
     "end_time": "2023-12-06T01:55:15.488790Z",
     "start_time": "2023-12-06T01:55:15.468957Z"
    }
   },
   "outputs": [
    {
     "data": {
      "text/plain": [
       "(10, torch.Size([2, 3, 224, 224]))"
      ]
     },
     "execution_count": 2,
     "metadata": {},
     "output_type": "execute_result"
    }
   ],
   "source": [
    "len(model), model[0].shape"
   ]
  },
  {
   "cell_type": "code",
   "execution_count": 3,
   "id": "a2442f86",
   "metadata": {
    "ExecuteTime": {
     "end_time": "2023-12-06T01:55:15.722143Z",
     "start_time": "2023-12-06T01:55:15.716464Z"
    }
   },
   "outputs": [
    {
     "data": {
      "text/plain": [
       "torch.Size([3, 224, 224])"
      ]
     },
     "execution_count": 3,
     "metadata": {},
     "output_type": "execute_result"
    }
   ],
   "source": [
    " model[0][0].shape"
   ]
  },
  {
   "cell_type": "code",
   "execution_count": 4,
   "id": "4abb5d83",
   "metadata": {
    "ExecuteTime": {
     "end_time": "2023-12-06T01:55:16.034271Z",
     "start_time": "2023-12-06T01:55:16.027301Z"
    }
   },
   "outputs": [],
   "source": [
    "permuted_tensor = model[0][0].permute(1, 2, 0)"
   ]
  },
  {
   "cell_type": "code",
   "execution_count": 5,
   "id": "c2d41f14",
   "metadata": {
    "ExecuteTime": {
     "end_time": "2023-12-06T01:55:16.320956Z",
     "start_time": "2023-12-06T01:55:16.315189Z"
    }
   },
   "outputs": [
    {
     "data": {
      "text/plain": [
       "torch.Size([224, 224, 3])"
      ]
     },
     "execution_count": 5,
     "metadata": {},
     "output_type": "execute_result"
    }
   ],
   "source": [
    "permuted_tensor.shape"
   ]
  },
  {
   "cell_type": "code",
   "execution_count": 6,
   "id": "20e41149",
   "metadata": {
    "ExecuteTime": {
     "end_time": "2023-12-06T01:55:16.663804Z",
     "start_time": "2023-12-06T01:55:16.638243Z"
    }
   },
   "outputs": [
    {
     "data": {
      "text/plain": [
       "tensor(0.1098)"
      ]
     },
     "execution_count": 6,
     "metadata": {},
     "output_type": "execute_result"
    }
   ],
   "source": [
    "model[0][0].min()"
   ]
  },
  {
   "cell_type": "code",
   "execution_count": 7,
   "id": "bb137fea",
   "metadata": {
    "ExecuteTime": {
     "end_time": "2023-12-06T01:55:17.038142Z",
     "start_time": "2023-12-06T01:55:17.027250Z"
    }
   },
   "outputs": [],
   "source": [
    "import numpy as np\n",
    "# 将 Tensor 转换为 NumPy 数组\n",
    "image0_1 = (model[0][0].permute(1, 2, 0).cpu().numpy() * 255).astype(np.uint8)\n",
    "image0_2 = (model[0][1].permute(1, 2, 0).cpu().numpy() * 255).astype(np.uint8)"
   ]
  },
  {
   "cell_type": "code",
   "execution_count": 25,
   "id": "5c9dc1a5",
   "metadata": {
    "ExecuteTime": {
     "end_time": "2023-12-06T01:55:06.012510Z",
     "start_time": "2023-12-06T01:55:06.010629Z"
    }
   },
   "outputs": [],
   "source": [
    "# from matplotlib import pyplot as plt\n",
    "\n",
    "# fig, ax = plt.subplots(figsize=(8, 8))\n",
    "# ax.imshow(image0_1, cmap='gray')\n",
    "\n",
    "# fig, ax = plt.subplots(figsize=(8, 8))\n",
    "# ax.imshow(image0_2, cmap='gray')"
   ]
  },
  {
   "cell_type": "code",
   "execution_count": null,
   "id": "5d0a3c3e",
   "metadata": {},
   "outputs": [],
   "source": []
  }
 ],
 "metadata": {
  "kernelspec": {
   "display_name": "Python 3",
   "language": "python",
   "name": "python3"
  },
  "language_info": {
   "codemirror_mode": {
    "name": "ipython",
    "version": 3
   },
   "file_extension": ".py",
   "mimetype": "text/x-python",
   "name": "python",
   "nbconvert_exporter": "python",
   "pygments_lexer": "ipython3",
   "version": "3.7.16"
  },
  "toc": {
   "base_numbering": 1,
   "nav_menu": {},
   "number_sections": true,
   "sideBar": true,
   "skip_h1_title": false,
   "title_cell": "Table of Contents",
   "title_sidebar": "Contents",
   "toc_cell": false,
   "toc_position": {},
   "toc_section_display": true,
   "toc_window_display": false
  }
 },
 "nbformat": 4,
 "nbformat_minor": 5
}
