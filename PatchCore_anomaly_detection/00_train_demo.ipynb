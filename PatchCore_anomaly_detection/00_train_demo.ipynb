{
 "cells": [
  {
   "cell_type": "code",
   "execution_count": 1,
   "id": "7e68b478",
   "metadata": {
    "ExecuteTime": {
     "end_time": "2022-12-30T03:12:21.160422Z",
     "start_time": "2022-12-30T03:12:21.115763Z"
    }
   },
   "outputs": [],
   "source": [
    "%load_ext autoreload\n",
    "%autoreload 2"
   ]
  },
  {
   "cell_type": "code",
   "execution_count": 2,
   "id": "92d8ad3c",
   "metadata": {
    "ExecuteTime": {
     "end_time": "2022-12-30T03:12:21.611622Z",
     "start_time": "2022-12-30T03:12:21.587170Z"
    }
   },
   "outputs": [],
   "source": [
    "# !python train.py --phase train or test --dataset_path .../mvtec_anomaly_detection --category carpet --project_root_path path/to/save/results --coreset_sampling_ratio 0.01 --n_neighbors 9"
   ]
  },
  {
   "cell_type": "markdown",
   "id": "0b341651",
   "metadata": {},
   "source": [
    "## 训练\n",
    "参数默认：\n",
    "```python\n",
    "python train.py --phase train --dataset_path /root/dataset/public/Research/DataSet/Anomaly_Detect/MVTec_AD/mvtec_anomaly_detection/ --category carpet --project_root_path /root/project/wood/ort/trt/research/wdcv/demo/anomaly_detection/models/patchcore\n",
    "``` \n",
    "carpet {'img_auc': 0.930577849117175, 'pixel_auc': 0.93455954390873}\n",
    "\n",
    "bottle {'img_auc': 0.35952380952380947, 'pixel_auc': 0.45279845194073653}\n",
    "\n",
    "grid {'img_auc': 0.6432748538011696, 'pixel_auc': 0.3221241193202348}"
   ]
  },
  {
   "cell_type": "code",
   "execution_count": 3,
   "id": "d0a6c4ce",
   "metadata": {
    "ExecuteTime": {
     "end_time": "2022-12-30T03:12:22.903636Z",
     "start_time": "2022-12-30T03:12:22.860082Z"
    },
    "scrolled": false
   },
   "outputs": [],
   "source": [
    "# !python train.py --phase train --dataset_path /root/dataset/wood/ort/trt/Research/industry_data/ --category bottle --project_root_path /root/project/wood/ort/trt/research/wdcv/demo/anomaly_detection/models/patchcore\n",
    "\n",
    "#  python train.py --phase train --dataset_path /root/dataset/public/Research/DataSet/Anomaly_Detect/MVTec_AD/mvtec_anomaly_detection/ --category carpet --project_root_path /root/project/wood/ort/trt/research/wdcv/demo/anomaly_detection/models/patchcore --coreset_sampling_ratio 0.01"
   ]
  },
  {
   "cell_type": "code",
   "execution_count": 5,
   "id": "34e6c720",
   "metadata": {
    "ExecuteTime": {
     "end_time": "2022-12-30T03:13:16.847917Z",
     "start_time": "2022-12-30T03:13:16.820678Z"
    },
    "scrolled": false
   },
   "outputs": [],
   "source": [
    "# !python train.py --phase train --dataset_path /root/dataset/public/Research/DataSet/Anomaly_Detect/MVTec_AD/mvtec_anomaly_detection/ --category bottle --project_root_path /root/project/wood/ort/trt/research/wdcv/demo/anomaly_detection/models/patchcore"
   ]
  },
  {
   "cell_type": "code",
   "execution_count": 6,
   "id": "e1c0e4d1",
   "metadata": {
    "ExecuteTime": {
     "end_time": "2022-12-30T04:31:06.177818Z",
     "start_time": "2022-12-30T03:13:29.851481Z"
    }
   },
   "outputs": [
    {
     "name": "stdout",
     "output_type": "stream",
     "text": [
      "GPU available: True, used: True\n",
      "TPU available: False, using: 0 TPU cores\n",
      "## 1、model ##\n",
      "Using cache found in /root/.cache/torch/hub/pytorch_vision_v0.9.0\n",
      "/root/conda/envs/ts_env/lib/python3.7/site-packages/torchvision/transforms/transforms.py:281: UserWarning: Argument interpolation should be of type InterpolationMode instead of int. Please, use InterpolationMode enum.\n",
      "  \"Argument interpolation should be of type InterpolationMode instead of int. \"\n",
      "## 2、train ##\n",
      "LOCAL_RANK: 0 - CUDA_VISIBLE_DEVICES: [0,1,2]\n",
      "/root/conda/envs/ts_env/lib/python3.7/site-packages/pytorch_lightning/utilities/distributed.py:68: UserWarning: `LightningModule.configure_optimizers` returned `None`, this fit will run with no optimizer\n",
      "  warnings.warn(*args, **kwargs)\n",
      "\n",
      "  | Name          | Type      | Params\n",
      "--------------------------------------------\n",
      "0 | model         | ResNet    | 68.9 M\n",
      "1 | criterion     | MSELoss   | 0     \n",
      "2 | inv_normalize | Normalize | 0     \n",
      "--------------------------------------------\n",
      "0         Trainable params\n",
      "68.9 M    Non-trainable params\n",
      "68.9 M    Total params\n",
      "275.533   Total estimated model params size (MB)\n",
      "#### train_dataloader\n",
      "### defect_types: ['good']\n",
      "/root/conda/envs/ts_env/lib/python3.7/site-packages/pytorch_lightning/utilities/distributed.py:68: UserWarning: The dataloader, train dataloader, does not have many workers which may be a bottleneck. Consider increasing the value of the `num_workers` argument` (try 48 which is the number of cpus on this machine) in the `DataLoader` init to improve performance.\n",
      "  warnings.warn(*args, **kwargs)\n",
      "Training: 0it [00:00, ?it/s]#### on_train_start\n",
      "#### self.logger.log_dir: /root/project/wood/ort/trt/research/wdcv/demo/anomaly_detection/models/patchcore/bottle/lightning_logs/version_22, \n",
      " self.embedding_dir_path: ./embeddings/bottle               \n",
      " self.sample_path: /root/project/wood/ort/trt/research/wdcv/demo/anomaly_detection/models/patchcore/bottle/lightning_logs/version_22/sample \n",
      " self.source_code_save_path: /root/project/wood/ort/trt/research/wdcv/demo/anomaly_detection/models/patchcore/bottle/lightning_logs/version_22/src\n",
      "Epoch 0:   0%|                                           | 0/14 [00:00<?, ?it/s]/root/conda/envs/ts_env/lib/python3.7/site-packages/pytorch_lightning/utilities/distributed.py:68: UserWarning: training_step returned None if it was on purpose, ignore this warning...\n",
      "  warnings.warn(*args, **kwargs)\n",
      "Epoch 0: 100%|██████████████| 14/14 [00:32<00:00,  2.30s/it, loss=nan, v_num=22]#### training_epoch_end\n",
      "Getting transformed features...\n",
      "Calculating distances...\n",
      "Maximum distance from cluster centers is 1.12\n",
      "initial embedding size :  (163856, 1536)\n",
      "final embedding size :  (16385, 1536)\n",
      "Epoch 0: 100%|███████████| 14/14 [1:16:49<00:00, 329.25s/it, loss=nan, v_num=22]\n",
      "LOCAL_RANK: 0 - CUDA_VISIBLE_DEVICES: [0,1,2]\n",
      "#### test_dataloader\n",
      "### defect_types: ['broken_large', 'good', 'broken_small', 'contamination']\n",
      "/root/conda/envs/ts_env/lib/python3.7/site-packages/pytorch_lightning/utilities/distributed.py:68: UserWarning: The dataloader, test dataloader 0, does not have many workers which may be a bottleneck. Consider increasing the value of the `num_workers` argument` (try 48 which is the number of cpus on this machine) in the `DataLoader` init to improve performance.\n",
      "  warnings.warn(*args, **kwargs)\n",
      "Testing: 0it [00:00, ?it/s]#### on_test_start\n",
      "#### faiss index_cpu_to_gpu success.\n",
      "Testing: 100%|██████████████████████████████████| 83/83 [00:20<00:00,  4.90it/s]#### test_epoch_end\n",
      "Total pixel-level auc-roc score :\n",
      "0.9814648500419402\n",
      "Total image-level auc-roc score :\n",
      "#### self.gt_list_img_lvl: [1, 1, 1, 1, 1, 1, 1, 1, 1, 1, 1, 1, 1, 1, 1, 1, 1, 1, 1, 1, 0, 0, 0, 0, 0, 0, 0, 0, 0, 0, 0, 0, 0, 0, 0, 0, 0, 0, 0, 0, 1, 1, 1, 1, 1, 1, 1, 1, 1, 1, 1, 1, 1, 1, 1, 1, 1, 1, 1, 1, 1, 1, 1, 1, 1, 1, 1, 1, 1, 1, 1, 1, 1, 1, 1, 1, 1, 1, 1, 1, 1, 1, 1] \n",
      " self.pred_list_img_lvl: [11.21242451711197, 10.669841295993308, 10.701066720681524, 12.522514195842831, 13.67773332282249, 10.515569273086157, 12.71420550514813, 10.305325489983943, 11.026640683879691, 9.733400120680471, 11.834882917897062, 8.591176608702426, 13.217902444377074, 9.717110871582975, 10.756005984080872, 11.079974420541475, 10.261317966590184, 13.105684256342442, 11.277199958845614, 10.105926474748685, 1.5532259557005546, 1.9148555825018576, 2.374700254682466, 1.5738868811336175, 1.9596840730996519, 2.0035162440938024, 1.4811894289759948, 1.630794927125521, 1.4732358957975293, 1.4692602238597772, 1.5125663012378254, 2.21465901087754, 1.622190041453564, 1.7760630791366623, 1.8803965744259017, 1.5109188050128637, 1.6137013528837372, 1.9547675584303192, 2.0853659677479754, 2.1074284299465944, 6.226711792349022, 10.811234889017499, 10.624159150723955, 11.134807510036211, 13.295001582584803, 7.826803909646429, 11.042114477886344, 8.34248895720691, 7.626847000125622, 9.72413277321266, 11.628263066236286, 8.846403705181729, 11.291249599715911, 8.28453177855286, 7.835627036356527, 8.27965285263781, 9.335294467149197, 13.190306643957172, 14.548578398105747, 10.559788207635563, 12.661593163064396, 10.412335235441134, 8.27365764762584, 5.898500096678404, 6.632748552083029, 3.8714613652573178, 5.022618395162112, 11.74927979352799, 8.607334468915155, 15.389645516197561, 8.686206053753665, 8.41251954904601, 10.46018838781265, 6.557209856750887, 4.711149716471596, 16.04471992815806, 5.31867570196934, 11.447357690333547, 6.406682965617222, 12.415275480714627, 13.889673544923085, 4.336778336630118, 5.925884552591924]\n",
      "1.0\n",
      "test_epoch_end\n",
      "Testing: 100%|██████████████████████████████████| 83/83 [00:26<00:00,  3.14it/s]\n",
      "--------------------------------------------------------------------------------\n",
      "DATALOADER:0 TEST RESULTS\n",
      "{'img_auc': 1.0, 'pixel_auc': 0.9814648500419402}\n",
      "--------------------------------------------------------------------------------\n"
     ]
    }
   ],
   "source": [
    "!python train_wood.py"
   ]
  },
  {
   "cell_type": "markdown",
   "id": "34e1003b",
   "metadata": {},
   "source": [
    "## 测试"
   ]
  },
  {
   "cell_type": "code",
   "execution_count": 7,
   "id": "fe43a3d0",
   "metadata": {
    "ExecuteTime": {
     "end_time": "2022-12-30T04:31:06.216134Z",
     "start_time": "2022-12-30T04:31:06.185013Z"
    },
    "scrolled": false
   },
   "outputs": [],
   "source": [
    "# !python train.py --phase test --dataset_path /root/dataset/public/Research/DataSet/Anomaly_Detect/MVTec_AD/mvtec_anomaly_detection/ --project_root_path /root/project/wood/ort/trt/research/wdcv/demo/anomaly_detection/models/patchcore"
   ]
  },
  {
   "cell_type": "code",
   "execution_count": 8,
   "id": "7b284055",
   "metadata": {
    "ExecuteTime": {
     "end_time": "2022-12-30T06:01:37.146790Z",
     "start_time": "2022-12-30T06:00:53.906446Z"
    }
   },
   "outputs": [
    {
     "name": "stdout",
     "output_type": "stream",
     "text": [
      "GPU available: True, used: True\n",
      "TPU available: False, using: 0 TPU cores\n",
      "## 1、model ##\n",
      "Using cache found in /root/.cache/torch/hub/pytorch_vision_v0.9.0\n",
      "/root/conda/envs/ts_env/lib/python3.7/site-packages/torchvision/transforms/transforms.py:281: UserWarning: Argument interpolation should be of type InterpolationMode instead of int. Please, use InterpolationMode enum.\n",
      "  \"Argument interpolation should be of type InterpolationMode instead of int. \"\n",
      "LOCAL_RANK: 0 - CUDA_VISIBLE_DEVICES: [0,1,2]\n",
      "#### test_dataloader\n",
      "### defect_types: ['broken_large', 'good', 'broken_small', 'contamination']\n",
      "/root/conda/envs/ts_env/lib/python3.7/site-packages/pytorch_lightning/utilities/distributed.py:68: UserWarning: The dataloader, test dataloader 0, does not have many workers which may be a bottleneck. Consider increasing the value of the `num_workers` argument` (try 48 which is the number of cpus on this machine) in the `DataLoader` init to improve performance.\n",
      "  warnings.warn(*args, **kwargs)\n",
      "Testing: 0it [00:00, ?it/s]#### on_test_start\n",
      "#### faiss index_cpu_to_gpu success.\n",
      "Testing: 100%|██████████████████████████████████| 83/83 [00:21<00:00,  4.36it/s]#### test_epoch_end\n",
      "Total pixel-level auc-roc score :\n",
      "0.9814648500419402\n",
      "Total image-level auc-roc score :\n",
      "#### self.gt_list_img_lvl: [1, 1, 1, 1, 1, 1, 1, 1, 1, 1, 1, 1, 1, 1, 1, 1, 1, 1, 1, 1, 0, 0, 0, 0, 0, 0, 0, 0, 0, 0, 0, 0, 0, 0, 0, 0, 0, 0, 0, 0, 1, 1, 1, 1, 1, 1, 1, 1, 1, 1, 1, 1, 1, 1, 1, 1, 1, 1, 1, 1, 1, 1, 1, 1, 1, 1, 1, 1, 1, 1, 1, 1, 1, 1, 1, 1, 1, 1, 1, 1, 1, 1, 1] \n",
      " self.pred_list_img_lvl: [11.21242451711197, 10.669841295993308, 10.701066720681524, 12.522514195842831, 13.67773332282249, 10.515569273086157, 12.71420550514813, 10.305325489983943, 11.026640683879691, 9.733400120680471, 11.834882917897062, 8.591176608702426, 13.217902444377074, 9.717110871582975, 10.756005984080872, 11.079974420541475, 10.261317966590184, 13.105684256342442, 11.277199958845614, 10.105926474748685, 1.5532259557005546, 1.9148555825018576, 2.374700254682466, 1.5738868811336175, 1.9596840730996519, 2.0035162440938024, 1.4811894289759948, 1.630794927125521, 1.4732358957975293, 1.4692602238597772, 1.5125663012378254, 2.21465901087754, 1.622190041453564, 1.7760630791366623, 1.8803965744259017, 1.5109188050128637, 1.6137013528837372, 1.9547675584303192, 2.0853659677479754, 2.1074284299465944, 6.226711792349022, 10.811234889017499, 10.624159150723955, 11.134807510036211, 13.295001582584803, 7.826803909646429, 11.042114477886344, 8.34248895720691, 7.626847000125622, 9.72413277321266, 11.628263066236286, 8.846403705181729, 11.291249599715911, 8.28453177855286, 7.835627036356527, 8.27965285263781, 9.335294467149197, 13.190306643957172, 14.548578398105747, 10.559788207635563, 12.661593163064396, 10.412335235441134, 8.27365764762584, 5.898500096678404, 6.632748552083029, 3.8714613652573178, 5.022618395162112, 11.74927979352799, 8.607334468915155, 15.389645516197561, 8.686206053753665, 8.41251954904601, 10.46018838781265, 6.557209856750887, 4.711149716471596, 16.04471992815806, 5.31867570196934, 11.447357690333547, 6.406682965617222, 12.415275480714627, 13.889673544923085, 4.336778336630118, 5.925884552591924]\n",
      "1.0\n",
      "test_epoch_end\n",
      "Testing: 100%|██████████████████████████████████| 83/83 [00:27<00:00,  3.06it/s]\n",
      "--------------------------------------------------------------------------------\n",
      "DATALOADER:0 TEST RESULTS\n",
      "{'img_auc': 1.0, 'pixel_auc': 0.9814648500419402}\n",
      "--------------------------------------------------------------------------------\n"
     ]
    }
   ],
   "source": [
    "!python train_wood.py --phase test"
   ]
  },
  {
   "cell_type": "code",
   "execution_count": null,
   "id": "b95fdaf4",
   "metadata": {},
   "outputs": [],
   "source": []
  }
 ],
 "metadata": {
  "kernelspec": {
   "display_name": "Python 3 (ipykernel)",
   "language": "python",
   "name": "python3"
  },
  "language_info": {
   "codemirror_mode": {
    "name": "ipython",
    "version": 3
   },
   "file_extension": ".py",
   "mimetype": "text/x-python",
   "name": "python",
   "nbconvert_exporter": "python",
   "pygments_lexer": "ipython3",
   "version": "3.7.11"
  },
  "toc": {
   "base_numbering": 1,
   "nav_menu": {},
   "number_sections": true,
   "sideBar": true,
   "skip_h1_title": false,
   "title_cell": "Table of Contents",
   "title_sidebar": "Contents",
   "toc_cell": false,
   "toc_position": {},
   "toc_section_display": true,
   "toc_window_display": false
  }
 },
 "nbformat": 4,
 "nbformat_minor": 5
}
