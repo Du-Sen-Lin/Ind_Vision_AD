{
 "cells": [
  {
   "cell_type": "code",
   "execution_count": 2,
   "id": "0381d038",
   "metadata": {
    "ExecuteTime": {
     "end_time": "2023-12-06T06:26:17.598944Z",
     "start_time": "2023-12-06T06:26:15.885687Z"
    }
   },
   "outputs": [],
   "source": [
    "import random\n",
    "from random import sample\n",
    "import argparse\n",
    "import numpy as np\n",
    "import os\n",
    "import pickle\n",
    "from tqdm import tqdm\n",
    "from collections import OrderedDict\n",
    "from sklearn.metrics import roc_auc_score\n",
    "from sklearn.metrics import roc_curve\n",
    "from sklearn.metrics import precision_recall_curve\n",
    "from sklearn.covariance import LedoitWolf\n",
    "from scipy.spatial.distance import mahalanobis\n",
    "from scipy.ndimage import gaussian_filter\n",
    "from skimage import morphology\n",
    "from skimage.segmentation import mark_boundaries\n",
    "import matplotlib.pyplot as plt\n",
    "import matplotlib\n",
    "\n",
    "import torch\n",
    "import torch.nn.functional as F\n",
    "from torch.utils.data import DataLoader\n",
    "from torchvision.models import wide_resnet50_2, resnet18\n",
    "import datasets.mvtec as mvtec"
   ]
  },
  {
   "cell_type": "code",
   "execution_count": 18,
   "id": "938b380f",
   "metadata": {
    "ExecuteTime": {
     "end_time": "2023-12-06T07:34:32.763073Z",
     "start_time": "2023-12-06T07:34:32.755061Z"
    }
   },
   "outputs": [
    {
     "name": "stdout",
     "output_type": "stream",
     "text": [
      "fpr: [0. 0. 0. 1.]\n",
      "tpr: [0.         0.33333333 1.         1.        ]\n",
      "_: [1.9 0.9 0.6 0.1]\n",
      "ROC-AUC Score: 1.0\n"
     ]
    }
   ],
   "source": [
    "# 假设 y_true 是实际标签，y_scores 是模型的预测概率\n",
    "y_true = np.array([0, 1, 1, 0, 1, 0])\n",
    "y_scores = np.array([0.2, 0.8, 0.6, 0.3, 0.9, 0.1])\n",
    "\n",
    "fpr, tpr, _ = roc_curve(y_true, y_scores)\n",
    "print(f\"fpr: {fpr}\")\n",
    "\n",
    "print(f\"tpr: {tpr}\")\n",
    "\n",
    "print(f\"_: {_}\")\n",
    "\n",
    "# 计算ROC-AUC分数\n",
    "roc_auc = roc_auc_score(y_true, y_scores)\n",
    "\n",
    "# 打印结果\n",
    "print(\"ROC-AUC Score:\", roc_auc)\n"
   ]
  },
  {
   "cell_type": "code",
   "execution_count": 9,
   "id": "40a0c1e0",
   "metadata": {
    "ExecuteTime": {
     "end_time": "2023-12-06T07:10:02.992912Z",
     "start_time": "2023-12-06T07:10:02.868848Z"
    }
   },
   "outputs": [],
   "source": [
    "train_feature_filepath = \"/root/project/ad_algo/anomaly_detection/PaDiM/mvtec_result/temp_resnet18/train_bottle.pkl\"\n",
    "\n",
    "\n",
    "with open(train_feature_filepath, 'rb') as f:\n",
    "    train_outputs = pickle.load(f)"
   ]
  },
  {
   "cell_type": "code",
   "execution_count": 15,
   "id": "434a8dba",
   "metadata": {
    "ExecuteTime": {
     "end_time": "2023-12-06T07:10:39.424982Z",
     "start_time": "2023-12-06T07:10:39.419691Z"
    }
   },
   "outputs": [
    {
     "data": {
      "text/plain": [
       "(2, (100, 3136), (100, 100, 3136))"
      ]
     },
     "execution_count": 15,
     "metadata": {},
     "output_type": "execute_result"
    }
   ],
   "source": [
    "len(train_outputs), train_outputs[0].shape, train_outputs[1].shape"
   ]
  },
  {
   "cell_type": "code",
   "execution_count": 16,
   "id": "dce69a6b",
   "metadata": {
    "ExecuteTime": {
     "end_time": "2023-12-06T07:13:49.257592Z",
     "start_time": "2023-12-06T07:13:49.251731Z"
    }
   },
   "outputs": [
    {
     "data": {
      "text/plain": [
       "56.0"
      ]
     },
     "execution_count": 16,
     "metadata": {},
     "output_type": "execute_result"
    }
   ],
   "source": [
    "import math\n",
    "\n",
    "math.sqrt(3136)"
   ]
  },
  {
   "cell_type": "code",
   "execution_count": 17,
   "id": "4a9d516b",
   "metadata": {
    "ExecuteTime": {
     "end_time": "2023-12-06T07:14:23.188704Z",
     "start_time": "2023-12-06T07:14:23.178791Z"
    }
   },
   "outputs": [
    {
     "data": {
      "text/plain": [
       "4.0"
      ]
     },
     "execution_count": 17,
     "metadata": {},
     "output_type": "execute_result"
    }
   ],
   "source": [
    "224/56"
   ]
  },
  {
   "cell_type": "code",
   "execution_count": null,
   "id": "cbe937f7",
   "metadata": {},
   "outputs": [],
   "source": []
  }
 ],
 "metadata": {
  "kernelspec": {
   "display_name": "Python 3",
   "language": "python",
   "name": "python3"
  },
  "language_info": {
   "codemirror_mode": {
    "name": "ipython",
    "version": 3
   },
   "file_extension": ".py",
   "mimetype": "text/x-python",
   "name": "python",
   "nbconvert_exporter": "python",
   "pygments_lexer": "ipython3",
   "version": "3.7.16"
  },
  "toc": {
   "base_numbering": 1,
   "nav_menu": {},
   "number_sections": true,
   "sideBar": true,
   "skip_h1_title": false,
   "title_cell": "Table of Contents",
   "title_sidebar": "Contents",
   "toc_cell": false,
   "toc_position": {},
   "toc_section_display": true,
   "toc_window_display": false
  }
 },
 "nbformat": 4,
 "nbformat_minor": 5
}
