{
 "cells": [
  {
   "cell_type": "markdown",
   "id": "81d7997c",
   "metadata": {},
   "source": [
    "## 分位数计算\n",
    "\n",
    "torch.quantile 是 PyTorch 中用于计算分位数的函数。\n",
    "```python\n",
    "torch.quantile(input, q, dim=None, keepdim=False)\n",
    "```\n",
    "input: 输入的张量，包含要计算分位数的数据。\n",
    "\n",
    "q: 一个浮点数或者包含浮点数的张量，表示要计算的分位数。\n",
    "\n",
    "dim: 沿着哪个维度计算分位数，如果为 None，则在整个张量上计算分位数。\n",
    "\n",
    "keepdim: 如果为 True，则保持输出张量的维度与输入张量一致。\n",
    "\n",
    "返回值是计算得到的分位数，可以是标量或者与输入张量维度相同的张量。\n",
    "\n",
    "计算方法：https://blog.csdn.net/gnudebian/article/details/127202035\n",
    "\n",
    "torch.quantile 函数的文档中没有明确要求输入张量必须是排序好的。通常情况下，计算分位数的函数会首先对数据进行排序，然后根据排序后的数据计算相应的分位数。"
   ]
  },
  {
   "cell_type": "code",
   "execution_count": 2,
   "id": "b5340e94",
   "metadata": {
    "ExecuteTime": {
     "end_time": "2023-11-30T07:53:05.075853Z",
     "start_time": "2023-11-30T07:53:05.069801Z"
    }
   },
   "outputs": [],
   "source": [
    "# torch.quantile(maps_st, q=0.9) \n",
    "# 作用是计算 maps_st 张量的 90% 分位数。这个值表示在数据的前 90% 的部分，有多少数据点的值小于或等于这个分位数。"
   ]
  },
  {
   "cell_type": "code",
   "execution_count": 7,
   "id": "04f84397",
   "metadata": {
    "ExecuteTime": {
     "end_time": "2023-11-30T08:03:23.596425Z",
     "start_time": "2023-11-30T08:03:23.590179Z"
    }
   },
   "outputs": [
    {
     "name": "stdout",
     "output_type": "stream",
     "text": [
      "q_result: tensor([0.3300, 2.8000])\n"
     ]
    }
   ],
   "source": [
    "# 计算方法:主要是将q的范围[0, 1] 转成输入index的范围[0, n]。 也就是说，将q 乘 n。然后插值计算。\n",
    "# 默认情况下 dim 是 None 导致 input 张量在计算之前被展平。\n",
    "import torch\n",
    "a = torch.tensor([0.0, 1.1, 2.1, 3.1])\n",
    "# a = torch.tensor([3.1, 1.1, 2.1, 0]) # 说明quantile有排序\n",
    "q_result = torch.quantile(a, torch.tensor([0.1, 0.9]))\n",
    "# tensor([0.3300, 2.8000])\n",
    "print(f\"q_result: {q_result}\")"
   ]
  },
  {
   "cell_type": "code",
   "execution_count": null,
   "id": "88e52980",
   "metadata": {},
   "outputs": [],
   "source": []
  }
 ],
 "metadata": {
  "kernelspec": {
   "display_name": "Python 3",
   "language": "python",
   "name": "python3"
  },
  "language_info": {
   "codemirror_mode": {
    "name": "ipython",
    "version": 3
   },
   "file_extension": ".py",
   "mimetype": "text/x-python",
   "name": "python",
   "nbconvert_exporter": "python",
   "pygments_lexer": "ipython3",
   "version": "3.7.16"
  },
  "toc": {
   "base_numbering": 1,
   "nav_menu": {},
   "number_sections": true,
   "sideBar": true,
   "skip_h1_title": false,
   "title_cell": "Table of Contents",
   "title_sidebar": "Contents",
   "toc_cell": false,
   "toc_position": {},
   "toc_section_display": true,
   "toc_window_display": false
  }
 },
 "nbformat": 4,
 "nbformat_minor": 5
}
